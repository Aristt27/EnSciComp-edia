{
 "cells": [
  {
   "cell_type": "markdown",
   "metadata": {},
   "source": [
    "Plano de hoje\n",
    "-------------\n",
    "\n",
    "1. Ambiente de programação\n",
    "    1. Interpretador interativo, Interpretador de arquivos, iPython\n",
    "    1. Revisão da sintaxe de python\n",
    "    1. **Funções**\n",
    "    1. **Números \"reais\"**\n",
    "    1. NumPy, SciPy: Matrizes e o mais\n",
    "    1. MatPlotLib: gráficos\n",
    "\n",
    "2. Usando o computador para calcular    \n",
    "    1. **Indução e algoritmos recursivos: fatoriais, binomiais, Fibonacci, Hanói**\n"
   ]
  },
  {
   "cell_type": "markdown",
   "metadata": {},
   "source": [
    "Funções\n",
    "=======\n",
    "\n",
    "Uma função consolida uma fórmula (ou sucessão de fórmulas) com um nome simples."
   ]
  },
  {
   "cell_type": "code",
   "execution_count": 1,
   "metadata": {
    "collapsed": false
   },
   "outputs": [],
   "source": [
    "def sq(x):\n",
    "    return x*x"
   ]
  },
  {
   "cell_type": "code",
   "execution_count": 2,
   "metadata": {
    "collapsed": false
   },
   "outputs": [],
   "source": [
    "def hyp(a,b):\n",
    "    return sqrt(a*a + b*b)"
   ]
  },
  {
   "cell_type": "code",
   "execution_count": 3,
   "metadata": {
    "collapsed": false
   },
   "outputs": [],
   "source": [
    "def quinto_menor(li):\n",
    "    s = sorted(li)\n",
    "    if len(s) < 5:\n",
    "        return None\n",
    "    else:\n",
    "        return s[4] # /!\\ O quinto elemento tem índice 4."
   ]
  },
  {
   "cell_type": "markdown",
   "metadata": {},
   "source": [
    "###Exercício\n",
    "\n",
    "Escreva uma função que retorna o cubo de um número."
   ]
  },
  {
   "cell_type": "code",
   "execution_count": 4,
   "metadata": {
    "collapsed": true
   },
   "outputs": [],
   "source": [
    "def cubo(x):\n",
    "    pass"
   ]
  },
  {
   "cell_type": "markdown",
   "metadata": {},
   "source": [
    "###Exercício\n",
    "\n",
    "Uma função não precisa retornar (ou seja, terminar com o comando `return`). Muitas vezes, funções que não retornam nada são chamadas de **subrotinas** ou (em inglês) **_procedures_**.\n",
    "\n",
    "Invente uma subrotina útil."
   ]
  },
  {
   "cell_type": "code",
   "execution_count": 5,
   "metadata": {
    "collapsed": false
   },
   "outputs": [],
   "source": [
    "def sub(x,y,z):\n",
    "    pass"
   ]
  },
  {
   "cell_type": "markdown",
   "metadata": {},
   "source": [
    "## Pra quê funções?\n",
    "\n",
    "A grande utilidade das funções é organizar o código. Além disso, se você escolher um bom **nome** para as suas funções, o seu programa sera também mais fácil de entender. (É claro que usar nomes muito grandes tem seus inconvenientes, também)\n",
    "\n",
    "Outra característica importante das funções é que você pode ter uma \"torre de funções\", com funções mais complicadas / especializadas utilizando funções mais simples / genéricas. Por exemplo, podemos re-escrever a função da hipotenusa assim:"
   ]
  },
  {
   "cell_type": "code",
   "execution_count": 6,
   "metadata": {
    "collapsed": false
   },
   "outputs": [],
   "source": [
    "def hyp(a,b):\n",
    "    return sqrt(sq(a) + sq(b))"
   ]
  },
  {
   "cell_type": "markdown",
   "metadata": {},
   "source": [
    "Esta idéia de \"torre\" é muito similar ao que ocorre em matemática. Por exemplo, vetores:\n",
    "\n",
    "Um **vetor** $v$ é um elemento de $R^n$. A **norma** de um vetor é dada pela raiz quadrada da soma dos quadrados de suas coordenadas. A **distância** entre dois vetores é dada pela norma da diferença de ambos. A **diferença** entre dois vetores é o vetor cujas coordenadas são as diferenças entre as suas coordenadas."
   ]
  },
  {
   "cell_type": "code",
   "execution_count": 7,
   "metadata": {
    "collapsed": false
   },
   "outputs": [],
   "source": [
    "def norma2(v):\n",
    "    return sum([sq(x) for x in v])\n",
    "\n",
    "def norma(v):\n",
    "    return sqrt(norma2(v))"
   ]
  },
  {
   "cell_type": "code",
   "execution_count": 8,
   "metadata": {
    "collapsed": false
   },
   "outputs": [],
   "source": [
    "def diff(v1, v2):\n",
    "    assert(len(v1) == len(v2))\n",
    "    return [x1 - x2 for (x1,x2) in zip(v1, v2)]"
   ]
  },
  {
   "cell_type": "code",
   "execution_count": 9,
   "metadata": {
    "collapsed": false
   },
   "outputs": [],
   "source": [
    "def dist(v1, v2):\n",
    "    return norma(diff(v1, v2))"
   ]
  },
  {
   "cell_type": "markdown",
   "metadata": {},
   "source": [
    "Ao longo do curso, vamos construir várias funções que representem os diversos procedimentos que estudamos. Assim, teremos sempre à disposição um conjunto de operações matemáticas tanto _abstratas_ (que utilizaremos para raciocinar e **demonstrar**) quando _concretas_ (que utilizaremos para calcular e **experimentar**)"
   ]
  },
  {
   "cell_type": "markdown",
   "metadata": {},
   "source": [
    "### Exercício\n",
    "\n",
    "O **ângulo** $\\theta$ entre dois vetores é dado pela fórmula\n",
    "$$\\langle u, v\\rangle = \\lvert u\\rvert \\cdot \\lvert v\\rvert \\cdot \\cos(\\theta). $$\n",
    "\n",
    "Implemente uma função que calcule o **produto interno** ($\\langle , \\rangle$) de dois vetores,\n",
    "e em seguida uma que calcule o ângulo entre os vetores."
   ]
  },
  {
   "cell_type": "code",
   "execution_count": 10,
   "metadata": {
    "collapsed": false
   },
   "outputs": [],
   "source": [
    "def dot(u,v):\n",
    "    pass"
   ]
  },
  {
   "cell_type": "markdown",
   "metadata": {},
   "source": [
    "Números \"reais\"\n",
    "===============\n",
    "\n",
    "É impossível representar todos os números reais no computador: este tem uma capacidade finita, enquanto aqueles são infinitos (e, pior, não-enumeráveis...). Assim, utilizaremos uma _aproximação_ dos mesmos.\n",
    "\n",
    "A primeira observação é que, num computador, sempre existe um _maior número \"real\"_, pois um computador é capaz de representar apenas uma quantidade finita de números.\n",
    "A segunda é que sempre existe um _próximo número \"real\"_, mais uma vez porque há apenas uma quantidade finita deles.\n",
    "\n",
    "Dado isto, uma idéia simples para representar números reais seria considerar que a cada número inteiro corresponde um número real, através de uma fórmula do tipo\n",
    "$$ real = \\frac{inteiro}{10^9} $$\n",
    "Isto é o que chamamos **ponto fixo**.\n",
    "Este nome vem de imaginarmos que existe um ponto (implícito) no número inteiro que o computador vê,\n",
    "e cuja posição é fixa (dada pelo $10^9$).\n",
    "\n",
    "É claro que a escolha de $10^9$ para o denominador é completamente arbitrária,\n",
    "e diferentes sistemas poderiam escolher diferentes denominadores.\n",
    "Assim, uma representação em ponto fixo é dada por\n",
    "$$\\frac{inteiro}{den} \\qquad \\text{onde o denominador $den$ está fixo.}$$"
   ]
  },
  {
   "cell_type": "markdown",
   "metadata": {},
   "source": [
    "###Exercícios\n",
    "1. Descubra qual é o maior inteiro que o seu computador conhece\n",
    "    1. Deduza a amplitude (o **menor** \"real\" maior que zero, além do **maior** \"real\") dos números que podem ser representados em ponto fixo se quisermos 15 casas decimais significativas.\n",
    "    1. Idem para 5, 10 e 20 casas decimais.\n",
    "    1. Use a Wikipédia e descubra uma constante física que seja conhecida com o maior número possível de casas decimais.\n",
    "    1. Observe a **amplitude** das constantes físicas que você procurou.\n",
    "    1. Conclua.\n",
    "\n",
    "1. Usando a finitude dos números \"reais\", escreva uma função que calcula o próximo número \"real\".\n",
    "    1. Como seria a função para o número \"real\" _anterior_?\n",
    "    1. O seu computador usa pontos fixos?\n",
    "\n",
    "1. Use a finitude dos números \"reais\" para desenvolver um algoritmo que calcule raízes (aproximadas) de uma função contínua.\n",
    "    1. Esse algoritmo pode usar uma idéia similar à do exercício anterior.\n",
    "    1. Escreva um programa que implemente este algoritmo."
   ]
  },
  {
   "cell_type": "code",
   "execution_count": 7,
   "metadata": {
    "collapsed": false
   },
   "outputs": [],
   "source": []
  },
  {
   "cell_type": "code",
   "execution_count": 7,
   "metadata": {
    "collapsed": false
   },
   "outputs": [],
   "source": []
  },
  {
   "cell_type": "markdown",
   "metadata": {},
   "source": [
    "###Números de ponto flutuante (Konrad Zuse, 1936)\n"
   ]
  },
  {
   "cell_type": "markdown",
   "metadata": {},
   "source": [
    "Uma variação óbvia desta estrutura é representar o número real sempre em duas partes: um numerador e um denominador, ambos inteiros. Assim, na verdade, representamos apenas números racionais (não que isso seja um problema, já que temos apenas uma quantidade finita de números disponíveis), mas ganhamos em flexibilidade.\n",
    "\n",
    "Porém, não faz muito sentido poder usar todos os números inteiros no denominador: isso geraria muita redundância!\n",
    "Vamos pensar, então, que o denominador pode mudar, mas não para \"qualquer coisa\", e vamos pensar, principalmente, qual é o nosso objetivo ao representar os números reais de forma aproximada."
   ]
  },
  {
   "cell_type": "markdown",
   "metadata": {},
   "source": [
    "Num sistema discreto de números \"reais\", o erro que cometemos ao usar aproximações é, no máximo,\n",
    "a diferença entre os dois números consecutivos do sistema que estão \"logo abaixo\" e \"logo acima\" do verdadeiro número real.\n",
    "\n",
    "E, na maior parte das vezes, o que nos interessa são erros relativos, e não erros absolutos.\n",
    "Se uma aula leva 120 minutos ou 119, não há muita diferença.\n",
    "Se uma aula leva 2h ou 1h, há muita diferença!\n",
    "Isso explica porque fixar o denominador não é, na maior parte das vezes, uma boa solução.\n",
    "O erro relativo entre $\\frac{2}{den}$ e $\\frac{1}{den}$ é muito maior do que o erro entre $\\frac{120}{den}$ e $\\frac{119}{den}$.\n",
    "\n",
    "Assim, a nossa escala deve ser adaptada aos erros relativos, e é a escala logarítmica.\n",
    "(Se você está preocupado com números negativos, você está certo;\n",
    "mas vamos deixar isso de lado por enquanto, e pensar que o sinal do número pode ser separado do resto\n",
    "- como realmente ocorre!)\n",
    "Deixando o zero de lado (que é especial para o logaritmo), podemos representar um número sob a forma\n",
    "$$base^{inteiro}, \\qquad \\text{onde a base $base$ está fixa.}$$\n",
    "\n",
    "Assim, o erro relativo entre dois números nesta representação é o erro entre $1$ e $base$,\n",
    "que é o mesmo que entre $base^1$ e $base^2$, e entre quaisquer dois números consecutivos.\n",
    "(menos o zero; erros relativos com zero são sempre muito grandes... mais disso, mais tarde)\n",
    "Se escolhermos a $base$ suficientemente próxima de $1$, teremos erros relativos suficientement pequenos, em toda a escala!"
   ]
  },
  {
   "cell_type": "markdown",
   "metadata": {},
   "source": [
    "Mas há um problema com esta representação: as operações de soma e subtração de números \"reais\" serão muito custosas.\n",
    "As de multiplicação e divisão, por outro lado, podem operar _diretamente_ com os números inteiros correspondentes,\n",
    "somando-os ou subtraindo-os, que são operações que o chip já tem que fazer, por outras razões!\n",
    "\n",
    "Isso levou a uma outra solução, inspirada em parte da física, da necessidade de erros relativos baixos,\n",
    "e de reaproveitar os circuitos lógicos já presentes no computador: usar **notação científica**.\n",
    "Um número em notação científica é dado por\n",
    "$$ mantissa \\times 10^{expoente} \\qquad \\text{onde $1 \\leq mantissa < 10$ e o $expoente$ é um número inteiro}. $$\n",
    "\n",
    "Da mesma forma que os números racionais, temos que guardar dois números para cada \"real\": a $mantissa$ e o $expoente$.\n",
    "Mas agora, note que não há redundância, porque restringimos o domínio da mantissa.\n",
    "A $mantissa$ será um número racional representado com **ponto fixo**:\n",
    "a maior parte da magnitude dos números está capturada pelo $expoente$,\n",
    "e ao usar ponto fixo num pequeno intervalo não há _tanta_ variação da precisão.\n",
    "\n",
    "Este sistema se chama **ponto flutuante** porque a posição do ponto decimal varia de acordo com o expoente.\n",
    "A grande vantagem deste sistema é que as operações aritméticas podem usar as partes do sistema que tratam de números inteiros,\n",
    "apenas ajustando os números para \"alinhar\" os pontos decimais corretamente\n",
    "(no caso de somas; os produtos dispensam isto porque a magnitude depende mais dos expoentes do que das mantissas!)."
   ]
  },
  {
   "cell_type": "markdown",
   "metadata": {},
   "source": [
    "### Exercício\n",
    "\n",
    "1. Repita a questão I dos pontos fixos para pontos flutuantes:\n",
    "    1. estude sua amplitude (maior / menor) ;\n",
    "    1. o número de casas significativas (e o erro relativo);\n",
    "    - (Obs: ambas as questões já foram parcialmente estudadas através dos programas acima)\n",
    "\n",
    "    1. e compare com o uso de pontos fixos para representar as constantes físicas."
   ]
  },
  {
   "cell_type": "markdown",
   "metadata": {},
   "source": [
    "Num computador, o sistema de representação binário para os inteiros sugere que o ponto flutuante também esteja \"em base 2\".\n",
    "Assim, na verdade: um número em ponto flutuante (em base 2) é dado por\n",
    "$$ mantissa \\times 2^{expoente} \\qquad \\text{onde $1 \\leq mantissa < 2$ e o $expoente$ é um número inteiro}. $$\n",
    "\n",
    "Note que a menor amplitude da mantissa também nos dá uma menor variação do erro relativo no início e no fim da escala!\n",
    "Uma outra apresentação para este sistema é a seguinte:\n",
    "$$ \\left[ 1 + \\frac{inteiro}{den} \\right] * 2^{expoente} \\qquad \\text{onde o denominador $den$ está fixo, $0 \\leq inteiro < den$ e $expoente \\in Z$.}$$\n",
    "Nesta notação, é fácil ver que o erro relativo máximo será de $1/(2 * den)$, que é a **resolução** deste sistema de representação.\n",
    "\n",
    "Este sitema ainda exige que se armazenem **duas** informações sobre o número real representado:\n",
    "a parte fracionária determinada pelo número $inteiro$, e o $expoente$, também inteiro."
   ]
  }
 ],
 "metadata": {
  "kernelspec": {
   "display_name": "Python 3",
   "language": "python",
   "name": "python3"
  },
  "language_info": {
   "codemirror_mode": {
    "name": "ipython",
    "version": 3
   },
   "file_extension": ".py",
   "mimetype": "text/x-python",
   "name": "python",
   "nbconvert_exporter": "python",
   "pygments_lexer": "ipython3",
   "version": "3.4.3"
  }
 },
 "nbformat": 4,
 "nbformat_minor": 0
}
