{
 "metadata": {
  "name": "",
  "signature": "sha256:e86eb82cb604dba44b9ac87f938b1fef2c4d7417f5cf5c77c4f6d02b8bf13f91"
 },
 "nbformat": 3,
 "nbformat_minor": 0,
 "worksheets": [
  {
   "cells": [
    {
     "cell_type": "markdown",
     "metadata": {},
     "source": [
      "Plano de Hoje\n",
      "=============\n",
      "\n",
      "1. Ambiente de programa\u00e7\u00e3o\n",
      "    1. Interpretador interativo, Interpretador de arquivos, iPython\n",
      "    1. Revis\u00e3o da sintaxe de python\n",
      "    1. Fun\u00e7\u00f5es\n",
      "    1. N\u00fameros \"reais\"\n",
      "    1. NumPy, SciPy: Matrizes e o mais\n",
      "    1. MatPlotLib: gr\u00e1ficos"
     ]
    },
    {
     "cell_type": "markdown",
     "metadata": {},
     "source": [
      "Python\n",
      "------\n",
      "Pode ser:\n",
      "\n",
      "- Uma linguagem (vers\u00f5es, ...)\n",
      "- Um programa (que voc\u00ea chama na linha de comando)\n",
      "\n",
      "Funciona como:\n",
      "\n",
      "- execut\u00e1vel\n",
      "- \"debugger\" interativo (_toplevel_)\n",
      "\n",
      "iPython\n",
      "-------\n",
      "Mistura tudo num lugar s\u00f3:\n",
      "\n",
      "- editor de texto\n",
      "- toplevel\n",
      "- coment\u00e1rios e documenta\u00e7\u00e3o\n",
      "- gr\u00e1ficos !"
     ]
    },
    {
     "cell_type": "markdown",
     "metadata": {},
     "source": [
      "Exemplo:"
     ]
    },
    {
     "cell_type": "code",
     "collapsed": false,
     "input": [
      "print(1+2+3)\n",
      "a = [1,2,3]\n",
      "print(a, sum(a))"
     ],
     "language": "python",
     "metadata": {},
     "outputs": [
      {
       "output_type": "stream",
       "stream": "stdout",
       "text": [
        "6\n",
        "([1, 2, 3], 6)\n"
       ]
      }
     ],
     "prompt_number": 1
    },
    {
     "cell_type": "markdown",
     "metadata": {},
     "source": [
      "Voltar acima, e incluir mais alguns comandos.\n",
      "O que acontece se um comando \"retorna\" algo, como\n",
      "\n",
      "    2 + 3\n",
      "ou como\n",
      "\n",
      "    5 == 6\n",
      "?"
     ]
    },
    {
     "cell_type": "markdown",
     "metadata": {},
     "source": [
      "Em Python, tudo, **tudo mesmo**, pode ser \"inspecionado\". Isso tem duas conseq\u00fc\u00eancias:\n",
      "\n",
      "1. o iPython usa essas capacidades para\n",
      "    - auto-completamento\n",
      "    - documenta\u00e7\u00e3o on-line\n",
      "    - guardar todas as entradas e sa\u00eddas usadas.\n",
      "2. voc\u00ea pode usar isso para descobrir todos os detalhes de uma vari\u00e1vel, fun\u00e7\u00e3o, objeto, classe, ..."
     ]
    },
    {
     "cell_type": "code",
     "collapsed": false,
     "input": [
      "# Escreva \"su\" e espere\n",
      "\n",
      "# Complete \"sum(, \" e espere\n",
      "\n",
      "# Use \"sum(a, \" e d\u00ea \"tab\""
     ],
     "language": "python",
     "metadata": {},
     "outputs": [],
     "prompt_number": 2
    },
    {
     "cell_type": "code",
     "collapsed": false,
     "input": [
      "# Mesmo entradas que n\u00e3o est\u00e3o mais vis\u00edveis ainda est\u00e3o na mem\u00f3ria\n",
      "print(In[1])"
     ],
     "language": "python",
     "metadata": {},
     "outputs": [
      {
       "output_type": "stream",
       "stream": "stdout",
       "text": [
        "print(1+2+3)\n",
        "a = [1,2,3]\n",
        "print(a, sum(a))\n"
       ]
      }
     ],
     "prompt_number": 3
    },
    {
     "cell_type": "markdown",
     "metadata": {},
     "source": [
      "Sintaxe Python\n",
      "==============\n",
      "\n",
      "/!\\ /!\\ **Espa\u00e7os significativos** /!\\ /!\\ :\n",
      "isso obriga o c\u00f3digo a ficar mais \"bonitinho\", mas pode gerar bugs meio dif\u00edceis de resolver.\n",
      "**Use um editor de texto capaz de ajudar a identar corretamente**.\n",
      "\n",
      "Refer\u00eancia: https://docs.python.org/3/reference/lexical_analysis.html e https://docs.python.org/3/reference/expressions.html\n",
      "\n",
      "Palavras-chave\n",
      "--------------\n",
      "\n",
      "(veja http://www.programiz.com/python-programming/keyword-list)"
     ]
    },
    {
     "cell_type": "code",
     "collapsed": false,
     "input": [
      "# Todas as palavras-chave\"\n",
      "import keyword\n",
      "print(keyword.kwlist)"
     ],
     "language": "python",
     "metadata": {},
     "outputs": [
      {
       "output_type": "stream",
       "stream": "stdout",
       "text": [
        "['and', 'as', 'assert', 'break', 'class', 'continue', 'def', 'del', 'elif', 'else', 'except', 'exec', 'finally', 'for', 'from', 'global', 'if', 'import', 'in', 'is', 'lambda', 'not', 'or', 'pass', 'print', 'raise', 'return', 'try', 'while', 'with', 'yield']\n"
       ]
      }
     ],
     "prompt_number": 4
    },
    {
     "cell_type": "markdown",
     "metadata": {},
     "source": [
      "Em grupos:\n",
      "\n",
      "- `False`, `True`, `None`: valores pr\u00e9-definidos (os dois booleanos, e um \"_void_\")\n",
      "- `and`, `or`, `not`: conectores l\u00f3gicos\n",
      "- `in`: operador l\u00f3gico \"_pertence a_\" (`not in` tamb\u00e9m existe)\n",
      "- `break`, `continue` ; `if`, `else`, `elif` ; `while`: estruturas de controle de fluxo\n",
      "\n",
      "- `for ... in`: iterador\n",
      "- `def`, `lambda`, `class`, `pass`: definindo fun\u00e7\u00f5es e classes\n",
      "- `return`, `yield`: retornando de fun\u00e7\u00f5es e iteradores\n",
      "\n",
      "- `raise`; `try`, `except`, `else`, `finally`: usando excess\u00f5es\n",
      "\n",
      "- `from`, `import`, `as`: usando m\u00f3dulos\n",
      "\n",
      "Partes mais avan\u00e7adas:\n",
      "\n",
      "- `assert`: debug\n",
      "\n",
      "- `del`: apaga uma vari\u00e1vel do contexto (ou de uma lista / dicion\u00e1rio)\n",
      "- `global`, `nonlocal`: for\u00e7a uma vari\u00e1vel a ser considerada global / mais geral do que o contexto da fun\u00e7\u00e3o atual\n",
      "\n",
      "- `is`: igualdade f\u00edsica (ao contr\u00e1rio de ==, que \u00e9 igualdade sem\u00e2ntica) (tamb\u00e9m existe `is not`)\n",
      "- `with`, `as`: gest\u00e3o de recursos"
     ]
    },
    {
     "cell_type": "markdown",
     "metadata": {},
     "source": [
      "Operadores\n",
      "----------\n",
      "\n",
      "Aritm\u00e9ticos:\n",
      "\n",
      "    +       -       *       **      /       //      %  \n",
      "    <<      >>\n",
      "\n",
      "L\u00f3gicos\n",
      "\n",
      "    &       |       ^       ~\n",
      "\n",
      "Compara\u00e7\u00e3o\n",
      "\n",
      "    <       >       <=      >=      ==      !=\n"
     ]
    },
    {
     "cell_type": "markdown",
     "metadata": {},
     "source": [
      "S\u00edmbolos especiais\n",
      "------------------\n",
      "\n",
      "Grupos\n",
      "\n",
      "- `()` : listas de argumentos, preced\u00eancia\n",
      "- `[]` : construir listas, indexar listas e dicion\u00e1rios, \"fatiar\" listas\n",
      "- `{}` : conjuntos e dicion\u00e1rios\n",
      "\n",
      "Operadores com uso e atribui\u00e7\u00e3o da mesma vari\u00e1vel: `a $= b` \u00e9 equivalente a `a = a $ b`\n",
      "\n",
      "    +=      -=      *=      **=     /=      //=     %=\n",
      "    <<=     >>= \n",
      "    &=      |=      ^=\n",
      "\n",
      "Outros\n",
      "\n",
      "- `=` : atribui\u00e7\u00e3o\n",
      "- `,` : separador de elementos em listas (tanto com `[]` como em fun\u00e7\u00f5es)\n",
      "- `:` : separador de blocos (`if`, `def`, `for`, ...)\n",
      "- `.` : acesso de propriedades (`math.pi`)\n",
      "- `;` : seq\u00fc\u00eancia (quase nunca utilizado)\n",
      "- `@` : decorador\n",
      "- `->` : anota\u00e7\u00e3o de fun\u00e7\u00f5es\n"
     ]
    },
    {
     "cell_type": "markdown",
     "metadata": {},
     "source": [
      "Estruturas de dados\n",
      "-------------------\n",
      "\n",
      "Refer\u00eancia: https://docs.python.org/3/tutorial/index.html, em especial https://docs.python.org/3/tutorial/introduction.html\n",
      "\n",
      "* Primitivas\n",
      "    - N\u00fameros\n",
      "    - Strings e \"bytestrings\"\n",
      "* Compostas\n",
      "    - Listas, dicion\u00e1rios, conjuntos\n",
      "    - Pares e seq\u00fc\u00eancias"
     ]
    },
    {
     "cell_type": "markdown",
     "metadata": {},
     "source": [
      "### N\u00fameros"
     ]
    },
    {
     "cell_type": "markdown",
     "metadata": {},
     "source": [
      "#### N\u00fameros inteiros"
     ]
    },
    {
     "cell_type": "markdown",
     "metadata": {},
     "source": [
      "Opera\u00e7\u00f5es simples"
     ]
    },
    {
     "cell_type": "code",
     "collapsed": false,
     "input": [
      "20 + 3, 20 - 3, 20 * 3, 20 / 3, 20 // 3, 20 % 3, 20 ** 3, 20 << 3, 20 >> 3"
     ],
     "language": "python",
     "metadata": {},
     "outputs": [
      {
       "metadata": {},
       "output_type": "pyout",
       "prompt_number": 5,
       "text": [
        "(23, 17, 60, 6, 6, 2, 8000, 160, 2)"
       ]
      }
     ],
     "prompt_number": 5
    },
    {
     "cell_type": "markdown",
     "metadata": {},
     "source": [
      "#### N\u00fameros inteiros podem ser bem grandes!"
     ]
    },
    {
     "cell_type": "code",
     "collapsed": false,
     "input": [
      "2 ** 20, 2 ** 30, 2 ** 100"
     ],
     "language": "python",
     "metadata": {},
     "outputs": [
      {
       "metadata": {},
       "output_type": "pyout",
       "prompt_number": 6,
       "text": [
        "(1048576, 1073741824, 1267650600228229401496703205376L)"
       ]
      }
     ],
     "prompt_number": 6
    },
    {
     "cell_type": "code",
     "collapsed": false,
     "input": [
      "2 ** 500"
     ],
     "language": "python",
     "metadata": {},
     "outputs": [
      {
       "metadata": {},
       "output_type": "pyout",
       "prompt_number": 7,
       "text": [
        "3273390607896141870013189696827599152216642046043064789483291368096133796404674554883270092325904157150886684127560071009217256545885393053328527589376L"
       ]
      }
     ],
     "prompt_number": 7
    },
    {
     "cell_type": "markdown",
     "metadata": {},
     "source": [
      "Tente ver at\u00e9 que n\u00famero o seu computador consegue calcular \"sem titubear\"!"
     ]
    },
    {
     "cell_type": "markdown",
     "metadata": {},
     "source": [
      "#### N\u00fameros de ponto flutuante"
     ]
    },
    {
     "cell_type": "code",
     "collapsed": false,
     "input": [
      "(1./3)*3, 1./7, 4.5 % 2.1"
     ],
     "language": "python",
     "metadata": {},
     "outputs": [
      {
       "metadata": {},
       "output_type": "pyout",
       "prompt_number": 8,
       "text": [
        "(1.0, 0.14285714285714285, 0.2999999999999998)"
       ]
      }
     ],
     "prompt_number": 8
    },
    {
     "cell_type": "markdown",
     "metadata": {},
     "source": [
      "Tamb\u00e9m podem ser grandes!"
     ]
    },
    {
     "cell_type": "code",
     "collapsed": false,
     "input": [
      "2. ** 500"
     ],
     "language": "python",
     "metadata": {},
     "outputs": [
      {
       "metadata": {},
       "output_type": "pyout",
       "prompt_number": 9,
       "text": [
        "3.273390607896142e+150"
       ]
      }
     ],
     "prompt_number": 9
    },
    {
     "cell_type": "markdown",
     "metadata": {},
     "source": [
      "Mas podem acontecer coisas estranhas..."
     ]
    },
    {
     "cell_type": "code",
     "collapsed": false,
     "input": [
      "x = 1.2e-16\n",
      "y = 1\n",
      "z1 = (y + x) - y - x\n",
      "z2 = (y + x) - x - y\n",
      "print(z1, z2, y+x)"
     ],
     "language": "python",
     "metadata": {},
     "outputs": [
      {
       "output_type": "stream",
       "stream": "stdout",
       "text": [
        "(1.020446049250313e-16, 0.0, 1.0000000000000002)\n"
       ]
      }
     ],
     "prompt_number": 10
    },
    {
     "cell_type": "markdown",
     "metadata": {},
     "source": [
      "###Listas, dicion\u00e1rios, conjuntos"
     ]
    },
    {
     "cell_type": "code",
     "collapsed": false,
     "input": [
      "# Declarando vari\u00e1veis\n",
      "li = [1,2,3,4,5,6]\n",
      "conj = {1, 2, 3, 4, 5, 6}\n",
      "dic = {1:2, 3:'4', \"5\":6}"
     ],
     "language": "python",
     "metadata": {},
     "outputs": [],
     "prompt_number": 11
    },
    {
     "cell_type": "code",
     "collapsed": false,
     "input": [
      "print(li)\n",
      "print(conj)\n",
      "print(dic)"
     ],
     "language": "python",
     "metadata": {},
     "outputs": [
      {
       "output_type": "stream",
       "stream": "stdout",
       "text": [
        "[1, 2, 3, 4, 5, 6]\n",
        "set([1, 2, 3, 4, 5, 6])\n",
        "{1: 2, 3: '4', '5': 6}\n"
       ]
      }
     ],
     "prompt_number": 12
    },
    {
     "cell_type": "markdown",
     "metadata": {},
     "source": [
      "Opera\u00e7\u00f5es b\u00e1sicas: pertence"
     ]
    },
    {
     "cell_type": "code",
     "collapsed": false,
     "input": [
      "3 in li, 3 in conj, 3 in dic"
     ],
     "language": "python",
     "metadata": {},
     "outputs": [
      {
       "metadata": {},
       "output_type": "pyout",
       "prompt_number": 13,
       "text": [
        "(True, True, True)"
       ]
      }
     ],
     "prompt_number": 13
    },
    {
     "cell_type": "code",
     "collapsed": false,
     "input": [
      "2 in li, 2 in conj, 2 in dic"
     ],
     "language": "python",
     "metadata": {},
     "outputs": [
      {
       "metadata": {},
       "output_type": "pyout",
       "prompt_number": 14,
       "text": [
        "(True, True, False)"
       ]
      }
     ],
     "prompt_number": 14
    },
    {
     "cell_type": "markdown",
     "metadata": {},
     "source": [
      "comprimento,"
     ]
    },
    {
     "cell_type": "code",
     "collapsed": false,
     "input": [
      "len(li), len(conj), len(dic)"
     ],
     "language": "python",
     "metadata": {},
     "outputs": [
      {
       "metadata": {},
       "output_type": "pyout",
       "prompt_number": 15,
       "text": [
        "(6, 6, 3)"
       ]
      }
     ],
     "prompt_number": 15
    },
    {
     "cell_type": "markdown",
     "metadata": {},
     "source": [
      "modifica\u00e7\u00e3o,"
     ]
    },
    {
     "cell_type": "code",
     "collapsed": false,
     "input": [
      "li.append(7)\n",
      "li.remove(3)\n",
      "conj.add(7)\n",
      "conj.remove(3)\n",
      "dic.update({7 : 8.})\n",
      "dic.pop(3)"
     ],
     "language": "python",
     "metadata": {},
     "outputs": [
      {
       "metadata": {},
       "output_type": "pyout",
       "prompt_number": 16,
       "text": [
        "'4'"
       ]
      }
     ],
     "prompt_number": 16
    },
    {
     "cell_type": "markdown",
     "metadata": {},
     "source": [
      "e itera\u00e7\u00e3o"
     ]
    },
    {
     "cell_type": "code",
     "collapsed": false,
     "input": [
      "for x in li:\n",
      "    print (x, x*x)\n",
      "print(\"\")\n",
      "for v in conj:\n",
      "    print(v, v**v)\n",
      "print(\"\")\n",
      "for k in dic:\n",
      "    print(k, dic[k])   "
     ],
     "language": "python",
     "metadata": {},
     "outputs": [
      {
       "output_type": "stream",
       "stream": "stdout",
       "text": [
        "(1, 1)\n",
        "(2, 4)\n",
        "(4, 16)\n",
        "(5, 25)\n",
        "(6, 36)\n",
        "(7, 49)\n",
        "\n",
        "(1, 1)\n",
        "(2, 4)\n",
        "(4, 256)\n",
        "(5, 3125)\n",
        "(6, 46656)\n",
        "(7, 823543)\n",
        "\n",
        "(1, 2)\n",
        "('5', 6)\n",
        "(7, 8.0)\n"
       ]
      }
     ],
     "prompt_number": 17
    },
    {
     "cell_type": "markdown",
     "metadata": {},
     "source": [
      "Opera\u00e7\u00f5es de acesso indexado"
     ]
    },
    {
     "cell_type": "code",
     "collapsed": false,
     "input": [
      "li[1], dic[1], li[5], dic[\"5\"]"
     ],
     "language": "python",
     "metadata": {},
     "outputs": [
      {
       "metadata": {},
       "output_type": "pyout",
       "prompt_number": 18,
       "text": [
        "(2, 2, 7, 6)"
       ]
      }
     ],
     "prompt_number": 18
    },
    {
     "cell_type": "code",
     "collapsed": false,
     "input": [
      "# Indexar e fatiar: trabalhando com listas\n",
      "li[-2], li[:3], li[3:], li[3:-1]"
     ],
     "language": "python",
     "metadata": {},
     "outputs": [
      {
       "metadata": {},
       "output_type": "pyout",
       "prompt_number": 19,
       "text": [
        "(6, [1, 2, 4], [5, 6, 7], [5, 6])"
       ]
      }
     ],
     "prompt_number": 19
    },
    {
     "cell_type": "markdown",
     "metadata": {},
     "source": [
      "Acesso e modifica\u00e7\u00e3o simult\u00e2neos"
     ]
    },
    {
     "cell_type": "code",
     "collapsed": false,
     "input": [
      "li[2] = 42\n",
      "print(li)\n",
      "dic[1] = [1,2,3]\n",
      "print(dic)"
     ],
     "language": "python",
     "metadata": {},
     "outputs": [
      {
       "output_type": "stream",
       "stream": "stdout",
       "text": [
        "[1, 2, 42, 5, 6, 7]\n",
        "{1: [1, 2, 3], '5': 6, 7: 8.0}\n"
       ]
      }
     ],
     "prompt_number": 20
    },
    {
     "cell_type": "markdown",
     "metadata": {},
     "source": [
      "Podemos modificar um monte de campos ao mesmo tempo, usando \"fatias\":"
     ]
    },
    {
     "cell_type": "code",
     "collapsed": false,
     "input": [
      "li[3:5] = [10,11,12,13]\n",
      "print(li)"
     ],
     "language": "python",
     "metadata": {},
     "outputs": [
      {
       "output_type": "stream",
       "stream": "stdout",
       "text": [
        "[1, 2, 42, 10, 11, 12, 13, 7]\n"
       ]
      }
     ],
     "prompt_number": 21
    },
    {
     "cell_type": "markdown",
     "metadata": {},
     "source": [
      "O que ocorre, na verdade, \u00e9 que a lista \u00e9 separada em tr\u00eas partes, **antes**, **fatia** e **depois**, e a parte da fatia \u00e9 substitu\u00edda pelo que voc\u00ea pedir."
     ]
    },
    {
     "cell_type": "code",
     "collapsed": false,
     "input": [
      "# Note a diferen\u00e7a\n",
      "x = [1,2,3]\n",
      "\n",
      "tmp = li[:]  # copia li...\n",
      "tmp[1] = x   # e substitui o elemento de \u00edndice 1 por uma lista\n",
      "print(tmp)\n",
      "\n",
      "tmp = li[:]  # copia li...\n",
      "tmp[1:2] = x # e insere na lista substituindo o elemento de \u00edndice 1\n",
      "print(tmp)\n"
     ],
     "language": "python",
     "metadata": {},
     "outputs": [
      {
       "output_type": "stream",
       "stream": "stdout",
       "text": [
        "[1, [1, 2, 3], 42, 10, 11, 12, 13, 7]\n",
        "[1, 1, 2, 3, 42, 10, 11, 12, 13, 7]\n"
       ]
      }
     ],
     "prompt_number": 22
    },
    {
     "cell_type": "code",
     "collapsed": false,
     "input": [
      "tmp[1:1] = [0,0,0] # insere no meio da lista\n",
      "print(tmp)"
     ],
     "language": "python",
     "metadata": {},
     "outputs": [
      {
       "output_type": "stream",
       "stream": "stdout",
       "text": [
        "[1, 0, 0, 0, 1, 2, 3, 42, 10, 11, 12, 13, 7]\n"
       ]
      }
     ],
     "prompt_number": 23
    },
    {
     "cell_type": "markdown",
     "metadata": {},
     "source": [
      "###Strings"
     ]
    },
    {
     "cell_type": "code",
     "collapsed": false,
     "input": [
      "x = 'Tudo'\n",
      "y = \"isso\"\n",
      "z = \"\"\"s\u00e3o\n",
      "tr\u00eas\"\"\"\n",
      "w = '''strings\n",
      "\n",
      "\n",
      "diferentes'''\n",
      "print((x, y, z, w))\n",
      "print(w)"
     ],
     "language": "python",
     "metadata": {},
     "outputs": [
      {
       "output_type": "stream",
       "stream": "stdout",
       "text": [
        "('Tudo', 'isso', 's\\xc3\\xa3o\\ntr\\xc3\\xaas', 'strings\\n\\n\\ndiferentes')\n",
        "strings\n",
        "\n",
        "\n",
        "diferentes\n"
       ]
      }
     ],
     "prompt_number": 24
    },
    {
     "cell_type": "markdown",
     "metadata": {},
     "source": [
      "Opera\u00e7\u00f5es: \"aritm\u00e9ticas\""
     ]
    },
    {
     "cell_type": "code",
     "collapsed": false,
     "input": [
      "x + y, x * 3, len(z)"
     ],
     "language": "python",
     "metadata": {},
     "outputs": [
      {
       "metadata": {},
       "output_type": "pyout",
       "prompt_number": 25,
       "text": [
        "('Tudoisso', 'TudoTudoTudo', 10)"
       ]
      }
     ],
     "prompt_number": 25
    },
    {
     "cell_type": "markdown",
     "metadata": {},
     "source": [
      "e indexa\u00e7\u00e3o (strings s\u00e3o listas imut\u00e1veis)"
     ]
    },
    {
     "cell_type": "code",
     "collapsed": false,
     "input": [
      "print(z[5])\n",
      "print(w[5:-5])"
     ],
     "language": "python",
     "metadata": {},
     "outputs": [
      {
       "output_type": "stream",
       "stream": "stdout",
       "text": [
        "t\n",
        "gs\n",
        "\n",
        "\n",
        "difer\n"
       ]
      }
     ],
     "prompt_number": 26
    },
    {
     "cell_type": "markdown",
     "metadata": {},
     "source": [
      "###Pares e al\u00e9m\n",
      "\n",
      "Um par \u00e9 constru\u00eddo como em matem\u00e1tica:\n",
      "\n",
      "    (1, 2)\n",
      "\u00c9 poss\u00edvel fazer com mais dimens\u00f5es:"
     ]
    },
    {
     "cell_type": "code",
     "collapsed": false,
     "input": [
      "(1,2,3,4,5)"
     ],
     "language": "python",
     "metadata": {},
     "outputs": [
      {
       "metadata": {},
       "output_type": "pyout",
       "prompt_number": 27,
       "text": [
        "(1, 2, 3, 4, 5)"
       ]
      }
     ],
     "prompt_number": 27
    },
    {
     "cell_type": "markdown",
     "metadata": {},
     "source": [
      "e tamb\u00e9m usar v\u00e1rios n\u00edveis de \"pares\""
     ]
    },
    {
     "cell_type": "code",
     "collapsed": false,
     "input": [
      "(1,(2,3),(4,(5,))) # Note a v\u00edrgula para que (5) != 5"
     ],
     "language": "python",
     "metadata": {},
     "outputs": [
      {
       "metadata": {},
       "output_type": "pyout",
       "prompt_number": 28,
       "text": [
        "(1, (2, 3), (4, (5,)))"
       ]
      }
     ],
     "prompt_number": 28
    },
    {
     "cell_type": "markdown",
     "metadata": {},
     "source": [
      "O al\u00e9m: \u00e9 poss\u00edvel combinar tudo isso de v\u00e1rias formas:"
     ]
    },
    {
     "cell_type": "code",
     "collapsed": false,
     "input": [
      "listaestranha = [1, (2,3), {4,5}]\n",
      "for x in listaestranha:\n",
      "    print(x)"
     ],
     "language": "python",
     "metadata": {},
     "outputs": [
      {
       "output_type": "stream",
       "stream": "stdout",
       "text": [
        "1\n",
        "(2, 3)\n",
        "set([4, 5])\n"
       ]
      }
     ],
     "prompt_number": 29
    },
    {
     "cell_type": "code",
     "collapsed": false,
     "input": [
      "dicbizarro = {1:(2,[3]), (4,5):\"6\"}\n",
      "for k,v in dicbizarro.items():\n",
      "    print(k,v)\n",
      "\n",
      "print(\"\")\n",
      "print(dicbizarro[(4,5)])"
     ],
     "language": "python",
     "metadata": {},
     "outputs": [
      {
       "output_type": "stream",
       "stream": "stdout",
       "text": [
        "((4, 5), '6')\n",
        "(1, (2, [3]))\n",
        "\n",
        "6\n"
       ]
      }
     ],
     "prompt_number": 30
    },
    {
     "cell_type": "markdown",
     "metadata": {},
     "source": [
      "M\u00f3dulos\n",
      "-------\n",
      "\n",
      "Esse \u00e9 o sistema de \"bibliotecas\" de Python. E a biblioteca _standard_ do Python (em https://docs.python.org/3/library/index.html) \u00e9 bastante completa.\n",
      "Alguns exemplos:\n",
      "\n",
      "- string\n",
      "- datetime, calendar\n",
      "- math, fractions, random\n",
      "- pickle, marshal\n",
      "- zipfile, tarfile\n",
      "- csv, configparser\n",
      "- os, time, argparse, getpass, logging\n",
      "- threading, multiprocessing, concurrent\n",
      "- email, html, xml, http\n",
      "- pydoc, unittest, timeit\n",
      "- sys\n"
     ]
    }
   ],
   "metadata": {}
  }
 ]
}
