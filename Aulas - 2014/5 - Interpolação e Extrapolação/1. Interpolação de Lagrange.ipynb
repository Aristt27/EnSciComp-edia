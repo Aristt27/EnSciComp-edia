{
 "cells": [
  {
   "cell_type": "markdown",
   "metadata": {},
   "source": [
    "Plano de hoje\n",
    "-------------\n",
    "\n",
    "1. Ambiente de programação\n",
    "2. Usando o computador para calcular    \n",
    "3. Usando o computador para desenhar\n",
    "4. Usando o computador para integrar: quadraturas\n",
    "5. Usando o computador para aproximar: interpolação\n",
    "    1. Interpolação local\n",
    "    2. Interpolação de Lagrange"
   ]
  },
  {
   "cell_type": "code",
   "execution_count": 1,
   "metadata": {},
   "outputs": [
    {
     "name": "stdout",
     "output_type": "stream",
     "text": [
      "Populating the interactive namespace from numpy and matplotlib\n"
     ]
    }
   ],
   "source": [
    "%pylab inline"
   ]
  },
  {
   "cell_type": "markdown",
   "metadata": {},
   "source": [
    "# Interpolação e extrapolação\n",
    "\n",
    "A principal razão para interpolar uma função é que esta pode ser \"desconhecida\".\n",
    "Isso pode se apresentar em vários níveis:\n",
    "\n",
    "1. A função que queremos representar só pode ser conhecida experimentalmente\n",
    "    - Pressão do ar a uma certa altitude (p em função de h)\n",
    "    - Concentração de sódio na água do mar (c em função de $x,y,z$)\n",
    "    - Cotação do dólar (\\$ em função de t)\n",
    "    - ...\n",
    "2. A função talvez tenha uma definição, mas esta pode ser muito complicada de obter\n",
    "    - \"Problemas inversos\": $f(x) = y$ onde $x^2 y + exp(y/x) = 39$\n",
    "    - \"Problemas aritméticos\": $f(x) = \\text{soma dos divisores de $x$}$.\n",
    "    - ...\n",
    "3. Uma combinação dos fenômenos acima\n",
    "\n",
    "Assim, uma vez que tenhamos dados \"suficientes\", vamos querer usá-los para ter uma idéia do comportamento global de $f$.\n",
    "Por exemplo, imagine que saibamos que:\n",
    "\n",
    "    x    = 0 1 2 5 10\n",
    "    f(x) = 2 3 3 5 7\n",
    "Será que podemos prever como será $f(4)$? Isso é o que chamamos de um problema de **interpolação**.\n",
    "Será que podemos prever como será $f(12)$? Isso é um problema de **extrapolação**."
   ]
  },
  {
   "cell_type": "code",
   "execution_count": 2,
   "metadata": {},
   "outputs": [
    {
     "data": {
      "text/plain": [
       "(0, 10)"
      ]
     },
     "execution_count": 2,
     "metadata": {},
     "output_type": "execute_result"
    },
    {
     "data": {
      "image/png": "[encoded data removed]",
      "text/plain": [
       "<matplotlib.figure.Figure at 0x7f2073e48a50>"
      ]
     },
     "metadata": {},
     "output_type": "display_data"
    }
   ],
   "source": [
    "x = [0,1,2,5,10]\n",
    "y = [2,3,4,5,7]\n",
    "plot(x,y, 'x')\n",
    "xlim([-1,11])\n",
    "ylim([0,10])"
   ]
  },
  {
   "cell_type": "markdown",
   "metadata": {},
   "source": [
    "# Interpolação local\n",
    "\n",
    "A solução **mais simples**, mas muitas vezes suficiente, é, simplesmente, \"ligar os pontos com retas\".\n",
    "Se você pensar, o plot faz _exatamente_ isso!"
   ]
  },
  {
   "cell_type": "code",
   "execution_count": 3,
   "metadata": {},
   "outputs": [
    {
     "data": {
      "text/plain": [
       "(0, 10)"
      ]
     },
     "execution_count": 3,
     "metadata": {},
     "output_type": "execute_result"
    },
    {
     "data": {
      "image/png": "[encoded data removed]",
      "text/plain": [
       "<matplotlib.figure.Figure at 0x7f20735d1850>"
      ]
     },
     "metadata": {},
     "output_type": "display_data"
    }
   ],
   "source": [
    "plot(x,y, 'x')\n",
    "plot(x,y)\n",
    "xlim([-1,11])\n",
    "ylim([0,10])"
   ]
  },
  {
   "cell_type": "markdown",
   "metadata": {},
   "source": [
    "Este método tem um nome pomposo, se você quiser parecer erudito: _interpolação linear por partes_.\n",
    "Vejamos porquê:\n",
    "\n",
    "1. _interpolação_, porque calcula valores \"razoáveis\" (num certo sentido) para a função apenas \"dentro\" do intervalo de seus pontos conhecidos\n",
    "2. _linear_, porque usa uma reta (linha!) para obter os tais valores\n",
    "3. _por partes_, porque usa uma reta diferente em cada intervalo."
   ]
  },
  {
   "cell_type": "markdown",
   "metadata": {},
   "source": [
    "Lembrando dos nossos métodos integrais, podemos renomeá-los!"
   ]
  },
  {
   "cell_type": "markdown",
   "metadata": {},
   "source": [
    "### Exercício:\n",
    "Em que categoria se enquadram os métodos de Cauchy, do ponto médio, trapezoidal?\n",
    "E os dois métodos de ordem 4 (Simpson e Gauss-Legendre)?"
   ]
  },
  {
   "cell_type": "markdown",
   "metadata": {},
   "source": [
    "## Aumentando a ordem de interpolação\n",
    "\n",
    "Ao contrário dos métodos que usamos para integrais, e como já vimos no exemplo, nem sempre possuímos pontos igualmente espaçados onde vamos interpolar.\n",
    "Mas isso não nos impedirá de interpolar a função, apenas teremos que tomar \"mais pontos\"."
   ]
  },
  {
   "cell_type": "markdown",
   "metadata": {},
   "source": [
    "### Exercício\n",
    "\n",
    "Interpole por polinômios de grau 2 os dados acima."
   ]
  },
  {
   "cell_type": "code",
   "execution_count": 3,
   "metadata": {},
   "outputs": [],
   "source": []
  },
  {
   "cell_type": "markdown",
   "metadata": {},
   "source": [
    "Vemos, assim, que usar interpoladores de maior grau pode ser melhor\n",
    "(quem sabe capturamos melhor o comportamento da função)\n",
    "mas traz também o problema de **qual** interpolante escolher para um mesmo intervalo.\n",
    "\n",
    "Voltaremos a este problema com splines, mais à frente."
   ]
  },
  {
   "cell_type": "markdown",
   "metadata": {},
   "source": [
    "# Interpolação global"
   ]
  },
  {
   "cell_type": "markdown",
   "metadata": {},
   "source": [
    "Uma outra idéia é usar **todas** informações simultaneamente.\n",
    "Assim, podemos usar uma parte para corrigir outra."
   ]
  },
  {
   "cell_type": "markdown",
   "metadata": {},
   "source": [
    "## O polinômio interpolador de Lagrange"
   ]
  },
  {
   "cell_type": "markdown",
   "metadata": {},
   "source": [
    "A idéia fundamental do PIL é que, dados $n+1$ pontos conhecidos,\n",
    "existe apenas um polinômio de grau $n$ que passa por eles.\n",
    "Este será o \"melhor\" polinômio de grau menor ou igual a $n$ que interpola estes dados,\n",
    "e não faz muito sentido tentar achar polinômios de mais alto grau,\n",
    "porque existem infinitos que vão passar pelos mesmos pontos!\n",
    "\n",
    "Assim, temos que descobrir $n+1$ coeficientes - digamos $a_0, a_1, \\ldots, a_n$ -\n",
    "para o nosso polinômio, em função de $n+1$ pontos $x$ e $y$."
   ]
  },
  {
   "cell_type": "markdown",
   "metadata": {},
   "source": [
    "### Exercício:\n",
    "Monte o sistema das $n+1$ equações, e ache uma matriz de Vandermonde!"
   ]
  },
  {
   "cell_type": "code",
   "execution_count": 4,
   "metadata": {},
   "outputs": [],
   "source": [
    "def lagrange(x,y):\n",
    "    \"\"\" Calcula o polinômio interpolador de Lagrange dos pontos $(x_i, y_i)$. \"\"\"\n",
    "    assert(len(x) == len(y))\n",
    "    n = len(x) - 1\n",
    "    maxx = max(x)\n",
    "    minx = min(x)\n",
    "    medx = (maxx + minx)/2\n",
    "    diffs = array(x) - medx\n",
    "    M = [ones_like(x)]\n",
    "    for i in range(n):\n",
    "        M.append(M[-1]*diffs)\n",
    "    M = array(M).T\n",
    "    a = solve(M,y)\n",
    "    \n",
    "    def p(z):\n",
    "        return Horner(z - medx,a[::-1])\n",
    "    return p"
   ]
  },
  {
   "cell_type": "code",
   "execution_count": 5,
   "metadata": {},
   "outputs": [],
   "source": [
    "def Horner(x, rcoeff):\n",
    "    # Inicialização\n",
    "    acc = rcoeff[0]\n",
    "    for c in rcoeff[1:]:\n",
    "        acc *= x\n",
    "        acc += c\n",
    "    return acc"
   ]
  },
  {
   "cell_type": "code",
   "execution_count": 6,
   "metadata": {},
   "outputs": [],
   "source": [
    "p_i_l = lagrange(x,y)"
   ]
  },
  {
   "cell_type": "code",
   "execution_count": 7,
   "metadata": {},
   "outputs": [
    {
     "data": {
      "text/plain": [
       "[<matplotlib.lines.Line2D at 0x7f2073598310>]"
      ]
     },
     "execution_count": 7,
     "metadata": {},
     "output_type": "execute_result"
    },
    {
     "data": {
      "image/png": "[encoded data removed]",
      "text/plain": [
       "<matplotlib.figure.Figure at 0x7f20735a1210>"
      ]
     },
     "metadata": {},
     "output_type": "display_data"
    }
   ],
   "source": [
    "t = linspace(-1,11,100)\n",
    "plot(t,p_i_l(t))\n",
    "plot(x,y,'o')"
   ]
  },
  {
   "cell_type": "markdown",
   "metadata": {},
   "source": [
    "O que vemos aqui é um fenômeno estranho:\n",
    "apesar de os dados serem crescentes, o interpolador não é crescente!\n",
    "\n",
    "Este é um dos problemas que atingem a interpolação de Lagrange.\n",
    "Veremos porquê."
   ]
  },
  {
   "cell_type": "markdown",
   "metadata": {},
   "source": [
    "## Análise da interpolação de Lagrange\n",
    "\n",
    "Apesar de termos formulado o problema de interpolação de Lagrange como a solução de um sistema linear,\n",
    "é possível expressar a solução de outras formas."
   ]
  },
  {
   "cell_type": "markdown",
   "metadata": {},
   "source": [
    "### Polinômios especiais\n",
    "\n",
    "Como estamos trabalhando com polinômios de grau 4 (porque temos 5 pontos),\n",
    "o maior número de zeros que um tal polinômio pode ter é 4.\n",
    "Aliás, é exatamente isso que garante que a solução é _única_.\n",
    "\n",
    "Vejamos que, dados 5 pontos, existem polinômios de grau 4 que sejam \"mais especiais\" do que outros.\n",
    "Especial também pode ser \"simples\", e por isso vamos tentar achar polinômios \"mais simples\".\n",
    "Uma idéia nessa direção é a seguinte: para cada um dos pontos $x_i$,\n",
    "existe um único polinômio $P_i$ que vale $1$ neste ponto, e $0$ nos outros 4.\n",
    "Como ele vale zero em 4 pontos e tem grau 4, ele tem que ser da forma\n",
    "$$ P_i(x) = C_i \\prod_{j \\neq i} (x - x_j), $$\n",
    "onde $C_i$ é uma constante.\n",
    "Ora, se $P_i(x_i) = 1$, isso dá uma equação para $C_i$:\n",
    "$$ 1 = C_i \\prod_{j \\neq i} (x_i - x_j). $$\n",
    "Assim, temos:\n",
    "$$ P_i = \\prod_{j \\neq i} \\frac{x - x_j}{x_i - x_j}.$$"
   ]
  },
  {
   "cell_type": "markdown",
   "metadata": {},
   "source": [
    "Agora, note que se uma função $f$ vale $y_0 \\neq 0$ em $x_0$\n",
    "a _única_ forma de, usando os $P_i$, obter este valor será usando $y_0 \\times P_i(x)$."
   ]
  },
  {
   "cell_type": "markdown",
   "metadata": {},
   "source": [
    "### Exercício\n",
    "\n",
    "Deduza a fórmula do polinômio interpolador de Lagrange de $f$ nos $x_i$:\n",
    "$$ I_f(x) = \\sum_{i = 0}^n \\left[ y_i \\prod_{j \\neq i} \\frac{x - x_j}{x_i - x_j} \\right]. $$\n",
    "Plote os 5 polinômios $P_i$ para os pontos $x = [0,1,2,5,10]$."
   ]
  },
  {
   "cell_type": "code",
   "execution_count": 7,
   "metadata": {},
   "outputs": [],
   "source": []
  }
 ],
 "metadata": {
  "kernelspec": {
   "display_name": "Python 3",
   "language": "python",
   "name": "python3"
  },
  "language_info": {
   "codemirror_mode": {
    "name": "ipython",
    "version": 3
   },
   "file_extension": ".py",
   "mimetype": "text/x-python",
   "name": "python",
   "nbconvert_exporter": "python",
   "pygments_lexer": "ipython3",
   "version": "3.7.5"
  }
 },
 "nbformat": 4,
 "nbformat_minor": 1
}
