{
 "cells": [
  {
   "cell_type": "markdown",
   "metadata": {},
   "source": [
    "Plano de hoje\n",
    "-------------\n",
    "\n",
    "1. Ambiente de programação\n",
    "2. Usando o computador para calcular    \n",
    "3. Usando o computador para desenhar\n",
    "4. Usando o computador para integrar: quadraturas\n",
    "5. Usando o computador para aproximar: interpolação\n",
    "6. Álgebra linear computacional\n",
    "    1. Resolvendo sistemas lineares\n",
    "    2. **Fatoração**"
   ]
  },
  {
   "cell_type": "code",
   "execution_count": 1,
   "metadata": {},
   "outputs": [
    {
     "name": "stdout",
     "output_type": "stream",
     "text": [
      "Populating the interactive namespace from numpy and matplotlib\n"
     ]
    }
   ],
   "source": [
    "%pylab inline"
   ]
  },
  {
   "cell_type": "markdown",
   "metadata": {},
   "source": [
    "# Fatoração LU\n",
    "\n",
    "Uma equação matricial $Ax = b$ pode levar muito ou pouco tempo para ser resolvida,\n",
    "dependendo da forma da matriz $A$.\n",
    "Vimos, na aula passada, que se $A$ estiver sob forma triangular superior,\n",
    "a solução do sistema é relativamente simples:\n",
    "basta ir achando sucessivamente valores para as variáveis\n",
    "$x_n$, $x _ {n-1}$, $\\ldots$, $x_2$, $x_1$.\n",
    "O mesmo acontece se $A$ fosse triangular inferior,\n",
    "mas na ordem contrária.\n",
    "\n",
    "O algoritmo de Gauss (eliminação e substituição),\n",
    "se examinado cuidadosamente,\n",
    "produz uma sequência de operações que equivale a separar a matriz em um produto de duas outras matrizes,\n",
    "chamadas classicamente de \"$L$\" e \"$U$\",\n",
    "que são respectivamente triangulares inferior e superior (_lower_ e _upper_, em inglês):\n",
    "$$ A = LU. $$\n",
    "Exatamente por isso que o algoritmo vai inicialmente \"de cima para baixo\",\n",
    "porque ele está resolvendo $L(Ux) = b$, e quando ele termina a eliminação\n",
    "temos o sistema equivalente\n",
    "$$ Ux = b' = L^{-1}b. $$\n",
    "A segunda parte é exatamente a \"substituição\" final,\n",
    "mas o que é interessante é que o primeiro passo _também_ pode ser visto\n",
    "como uma substituição!\n",
    "(e vice-versa, o segundo passo pode ser visto como\n",
    "\"eliminar as variáveis já determinadas\" nas equações \"de cima\")"
   ]
  },
  {
   "cell_type": "markdown",
   "metadata": {},
   "source": [
    "O que este parágrafo deve fazer pensar é que, se já usamos $A$ alguma vez para resolver um sistema,\n",
    "e que vamos querer resolver outras equações $Ax = y$ (com outros $y$)\n",
    "então deveríamos evitar fazer o mesmo trabalho várias vezes:\n",
    "o que podemos fazer é guardar as duas partes $L$ e $U$ de $A$,\n",
    "e usá-las para resolver todos os sistemas.\n",
    "\n",
    "### Observação\n",
    "\n",
    "É claro que, se já sabemos de antemão quais são os $y$ que vamos querer usar no lado direito,\n",
    "não é **necessário** guardar a fatoração (o que vai usar memória).\n",
    "Mas, muitas vezes, pode ocorrer que $A$ seja uma matriz de um algoritmo recursivo / iterativo,\n",
    "e que os $y$ que aparecem sejam determinados apenas em função dos $x$ da etapa anterior.\n",
    "Neste caso, é bastante provável que manter a fatoração de $A$ na memória seja útil."
   ]
  },
  {
   "cell_type": "markdown",
   "metadata": {},
   "source": [
    "### Exercício\n",
    "\n",
    "Deduza o algoritmo que permite obter $L$, sabendo que $U$ será a matriz resultante da eliminação.\n",
    "Implemente a fatoração LU.\n",
    "\n",
    "Observe também que seria possível guardar $L$ e $U$ no mesmo espaço de $A$. (mas não implemente isso, ainda)"
   ]
  },
  {
   "cell_type": "code",
   "execution_count": 2,
   "metadata": {},
   "outputs": [],
   "source": [
    "def lu(A):\n",
    "    \"\"\" Fatoração LU da matriz  A.\n",
    "        Retorna duas novas matrizes L e U; A não será alterada. \"\"\"\n",
    "    # Os coeficientes de A estão em A[i][j]\n",
    "    (n,m) = shape(A)\n",
    "    rank = min(n,m)\n",
    "    L = zeros((n, rank), dtype=A.dtype)\n",
    "    U = A.copy()\n",
    "    # Elimine em U, acumule em L\n",
    "    #\n",
    "    #\n",
    "    #\n",
    "    #\n",
    "    U = U[:rank]\n",
    "    return L,U"
   ]
  },
  {
   "cell_type": "markdown",
   "metadata": {},
   "source": [
    "## Pivôs, permutações e matrizes esparsas\n",
    "\n",
    "Pode ocorrer, durante a fatoração, que obtenhamos um zero.\n",
    "Isso é bastante inconveniente, já que não poderíamos mais usar esta linha para eliminar.\n",
    "A solução é óbvia: tentaremos encontrar outra linha em que a variável correspondente\n",
    "não tenha um coeficiente igual a zero.\n",
    "Este novo coeficiente é chamado de **pivô**.\n",
    "\n",
    "Mudar de pivô implica permutar as equações (e portanto $b$ também)\n",
    "mas não as variáveis.\n",
    "Ao longo do processo, pode ser necessário realizar diversas permutações \"elementares\"\n",
    "(entre duas linhas),\n",
    "mas a composta de duas permutações ainda é uma permutação.\n",
    "Este processo gera o que chamamos de fatoração $PLU$,\n",
    "pois a permutação de linhas poderia ser feita antes de eliminar com $L$.\n",
    "\n",
    "A troca de linhas é, em geral, representada por uma matriz de permutação\n",
    "(já que estamos fazendo Álgebra linear),\n",
    "mas é um grande desperdício usar $n\\times n$ espaços\n",
    "para guardar uma matriz de permutação que contém apenas $n$ informações.\n",
    "Portanto, seria interessante ter uma representação mais compacta destas matrizes,\n",
    "e isto é feito com _matrizes esparsas_.\n",
    "Uma matriz esparsa é simplesmente uma matriz que possui \"poucas\"\n",
    "entradas diferentes de zero.\n",
    "Exemplos clássicos são matrizes diagonais e tridiagonais\n",
    "(que são tão especiais que em geral são tratadas de forma mais dedicada ainda!)\n",
    "matrizes de permutação, matrizes de adjacência de grafos (com \"poucas arestas\", claro!),\n",
    "e matrizes advindas da discretização de EDPs."
   ]
  },
  {
   "cell_type": "code",
   "execution_count": 3,
   "metadata": {},
   "outputs": [],
   "source": [
    "from scipy import sparse"
   ]
  },
  {
   "cell_type": "markdown",
   "metadata": {},
   "source": [
    "Vamos usar uma forma relativamente simples para descrever uma matriz esparsa,\n",
    "a forma de \"coordenadas\", também conhecida como _ijv_ ou _trincas_.\n",
    "\n",
    "Vale notar que usar matrizes esparsas requer um certo cuidado:\n",
    "devemos manter as matrizes esparsas tanto tempo quanto possível\n",
    "durante os cálculos,\n",
    "mas ao mesmo tempo reconhecer quando esta se torna \"densa\"\n",
    "e voltar à descrição usual.\n",
    "Além disso, em geral, é mais simples construir a matriz usando uma descrição\n",
    "(como _ijv_, ou _lista de listas_, ou _dicionário_),\n",
    "mas estas formas são ineficientes para operar com as mesmas\n",
    "(por exemplo resolver sistemas ou calcular determinantes).\n",
    "Assim, é recomendado que, uma vez fixada a matriz esparsa,\n",
    "seja realizada uma conversão para formas mais eficientes."
   ]
  },
  {
   "cell_type": "code",
   "execution_count": 4,
   "metadata": {},
   "outputs": [
    {
     "data": {
      "text/plain": [
       "matrix([[ 1.,  0.,  0.,  0.,  0.,  0.,  0.],\n",
       "        [ 0.,  1.,  0.,  0.,  0.,  0.,  0.],\n",
       "        [ 0.,  0.,  0.,  0.,  0.,  1.,  0.],\n",
       "        [ 0.,  0.,  0.,  1.,  0.,  0.,  0.],\n",
       "        [ 0.,  0.,  0.,  0.,  1.,  0.,  0.],\n",
       "        [ 0.,  0.,  1.,  0.,  0.,  0.,  0.],\n",
       "        [ 0.,  0.,  0.,  0.,  0.,  0.,  1.]])"
      ]
     },
     "execution_count": 4,
     "metadata": {},
     "output_type": "execute_result"
    }
   ],
   "source": [
    "rows = list(range(7))\n",
    "cols = list(range(7))\n",
    "# Permute!\n",
    "cols[2] = 5\n",
    "cols[5] = 2\n",
    "perm25 = sparse.coo_matrix((ones(7), (rows, cols)))\n",
    "perm25.todense()"
   ]
  },
  {
   "cell_type": "markdown",
   "metadata": {},
   "source": [
    "Verificando que permuta"
   ]
  },
  {
   "cell_type": "code",
   "execution_count": 5,
   "metadata": {},
   "outputs": [
    {
     "name": "stdout",
     "output_type": "stream",
     "text": [
      "[ 0.36783115  0.21859108  0.30788687  0.81166613  0.06413076  0.4675711\n",
      "  0.96967783]\n",
      "[ 0.36783115  0.21859108  0.4675711   0.81166613  0.06413076  0.30788687\n",
      "  0.96967783]\n"
     ]
    }
   ],
   "source": [
    "b = rand(7)\n",
    "print(b)\n",
    "print(perm25.dot(b))"
   ]
  },
  {
   "cell_type": "markdown",
   "metadata": {},
   "source": [
    "Verificando que é uma involução: permutar duas linhas duas vezes volta à identidade:"
   ]
  },
  {
   "cell_type": "code",
   "execution_count": 6,
   "metadata": {},
   "outputs": [
    {
     "data": {
      "text/plain": [
       "matrix([[ 1.,  0.,  0.,  0.,  0.,  0.,  0.],\n",
       "        [ 0.,  1.,  0.,  0.,  0.,  0.,  0.],\n",
       "        [ 0.,  0.,  1.,  0.,  0.,  0.,  0.],\n",
       "        [ 0.,  0.,  0.,  1.,  0.,  0.,  0.],\n",
       "        [ 0.,  0.,  0.,  0.,  1.,  0.,  0.],\n",
       "        [ 0.,  0.,  0.,  0.,  0.,  1.,  0.],\n",
       "        [ 0.,  0.,  0.,  0.,  0.,  0.,  1.]])"
      ]
     },
     "execution_count": 6,
     "metadata": {},
     "output_type": "execute_result"
    }
   ],
   "source": [
    "perm25.dot(perm25).todense()"
   ]
  },
  {
   "cell_type": "markdown",
   "metadata": {},
   "source": [
    "### Exercício\n",
    "\n",
    "Mantenha a lista das linhas permutadas na fatoração PLU,\n",
    "e retorne a matriz (esparsa!) resultante,\n",
    "além de $L$ e $U$."
   ]
  },
  {
   "cell_type": "code",
   "execution_count": 7,
   "metadata": {},
   "outputs": [],
   "source": [
    "def build_permutation(l):\n",
    "    \"\"\" Constrói a matriz de permutação que envia  i  em  l[i]. \"\"\"\n",
    "    n = len(l)\n",
    "    #\n",
    "    #\n",
    "    #"
   ]
  },
  {
   "cell_type": "code",
   "execution_count": 8,
   "metadata": {},
   "outputs": [],
   "source": [
    "def lu_p(A):\n",
    "    \"\"\" Fatoração PLU da matriz  A.\n",
    "        Retorna duas novas matrizes  L  e  U  e uma matriz de permutações  P, esparsa.\n",
    "        A matriz  A  não será alterada. \"\"\"\n",
    "    # Os coeficientes de A estão em A[i][j]\n",
    "    eps = 1e-10 # Use este epsilon para testar se uma entrada é \"zero\".\n",
    "    (n,m) = shape(A)\n",
    "    rank = min(n,m)\n",
    "    L = zeros((n, rank), dtype=A.dtype)\n",
    "    U = A.copy()\n",
    "    perm = list(range(n)) # Inicialize a permutação como identidade\n",
    "    \n",
    "    # Elimine em U, acumule em L.\n",
    "    #\n",
    "    # Não esqueça de adicionar o teste para o pivô, e de permutar as linhas das matrizes conforme necessário.\n",
    "    # Obs: fazer U[i], U[ii] = U[ii], U[i] NÃO irá permutar as linhas!! Use copy() e temporários.\n",
    "    #\n",
    "    # Mais uma dica: use\n",
    "    #        print('Passo {}.\\n  U = {}\\n  L = {}\\n  perm = {}'.format(i,U,L,perm))\n",
    "    # para conferir o passo a passo do seu algoritmo.\n",
    "    # Essa \"técnica\" é muito conhecida como \"printf-debug\", porque em várias linguagens a função print tem um f no final.\n",
    "    #\n",
    "    U = U[:rank]\n",
    "    \n",
    "    return build_permutation(perm),L,U"
   ]
  },
  {
   "cell_type": "code",
   "execution_count": 9,
   "metadata": {},
   "outputs": [
    {
     "name": "stdout",
     "output_type": "stream",
     "text": [
      "Passo 0.\n",
      "  U = [[ 1.  2.  3.]\n",
      " [ 4.  5.  6.]\n",
      " [ 7.  8.  9.]\n",
      " [ 3.  5.  3.]]\n",
      "  L = [[ 0.  0.  0.]\n",
      " [ 0.  0.  0.]\n",
      " [ 0.  0.  0.]\n",
      " [ 0.  0.  0.]]\n",
      "  perm = [0, 1, 2, 3]\n",
      "Passo 1.\n",
      "  U = [[  1.   2.   3.]\n",
      " [  0.  -3.  -6.]\n",
      " [  0.  -6. -12.]\n",
      " [  0.  -1.  -6.]]\n",
      "  L = [[ 1.  0.  0.]\n",
      " [ 4.  0.  0.]\n",
      " [ 7.  0.  0.]\n",
      " [ 3.  0.  0.]]\n",
      "  perm = [0, 1, 2, 3]\n",
      "Passo 2.\n",
      "  U = [[ 1.  2.  3.]\n",
      " [ 0. -3. -6.]\n",
      " [ 0.  0.  0.]\n",
      " [ 0.  0. -4.]]\n",
      "  L = [[ 1.          0.          0.        ]\n",
      " [ 4.          1.          0.        ]\n",
      " [ 7.          2.          0.        ]\n",
      " [ 3.          0.33333333  0.        ]]\n",
      "  perm = [0, 1, 2, 3]\n",
      "Passo 2, permutação.\n",
      "  U = [[ 1.  2.  3.]\n",
      " [ 0. -3. -6.]\n",
      " [ 0.  0. -4.]\n",
      " [ 0.  0.  0.]]\n",
      "  L = [[ 1.          0.          0.        ]\n",
      " [ 4.          1.          0.        ]\n",
      " [ 3.          0.33333333  0.        ]\n",
      " [ 7.          2.          0.        ]]\n",
      "  perm = [0, 1, 3, 2]\n",
      "  (0, 0)\t1.0\n",
      "  (1, 1)\t1.0\n",
      "  (2, 3)\t1.0\n",
      "  (3, 2)\t1.0\n",
      "[[ 1.          0.          0.        ]\n",
      " [ 4.          1.          0.        ]\n",
      " [ 3.          0.33333333  1.        ]\n",
      " [ 7.          2.         -0.        ]]\n",
      "[[ 1.  2.  3.]\n",
      " [ 0. -3. -6.]\n",
      " [ 0.  0. -4.]]\n"
     ]
    },
    {
     "data": {
      "text/plain": [
       "matrix([[ 1.,  2.,  3.],\n",
       "        [ 4.,  5.,  6.],\n",
       "        [ 7.,  8.,  9.],\n",
       "        [ 3.,  5.,  3.]])"
      ]
     },
     "execution_count": 9,
     "metadata": {},
     "output_type": "execute_result"
    }
   ],
   "source": [
    "A = array([[1,2.,3], [4,5,6], [7,8,9], [3,5,3]])\n",
    "P,L,U = lu_p(A)\n",
    "print(P)\n",
    "print(L)\n",
    "print(U)\n",
    "P.todense()*L*U"
   ]
  },
  {
   "cell_type": "markdown",
   "metadata": {},
   "source": [
    "### Exercício\n",
    "\n",
    "Além do critério óbvio que buscamos um coeficiente que seja não-nulo\n",
    "(na coluna correspondente à variável),\n",
    "também é comum escolher o coeficiente de maior módulo.\n",
    "Implemente isso, e veja se o erro $Ax - b$ diminui."
   ]
  },
  {
   "cell_type": "code",
   "execution_count": 10,
   "metadata": {},
   "outputs": [],
   "source": [
    "def lu_p(A):\n",
    "    \"\"\" Fatoração PLU da matriz  A.\n",
    "        Retorna duas novas matrizes  L  e  U  e uma matriz de permutações  P, esparsa.\n",
    "        A matriz  A  não será alterada. \"\"\"\n",
    "    # Os coeficientes de A estão em A[i][j]\n",
    "    eps = 1e-10 # Use este epsilon para testar se uma entrada é \"zero\".\n",
    "    (n,m) = shape(A)\n",
    "    rank = min(n,m)\n",
    "    L = zeros((n, rank), dtype=A.dtype)\n",
    "    U = A.copy()\n",
    "    perm = list(range(n))\n",
    "    # Por incrível que pareça, o código desta é menor do que o da eliminação achando o primeiro pivô não-nulo.\n",
    "    #\n",
    "    #\n",
    "    U = U[:rank]\n",
    "    \n",
    "    return build_permutation(perm),L,U"
   ]
  },
  {
   "cell_type": "code",
   "execution_count": 38,
   "metadata": {},
   "outputs": [
    {
     "name": "stdout",
     "output_type": "stream",
     "text": [
      "Passo 0.\n",
      "  U = [[ 1.  2.  3.]\n",
      " [ 4.  5.  6.]\n",
      " [ 7.  8.  9.]\n",
      " [ 3.  5.  3.]]\n",
      "  L = [[ 0.  0.  0.]\n",
      " [ 0.  0.  0.]\n",
      " [ 0.  0.  0.]\n",
      " [ 0.  0.  0.]]\n",
      "  perm = [0, 1, 2, 3]\n",
      "Passo 0, permutação.\n",
      "  U = [[ 7.  8.  9.]\n",
      " [ 4.  5.  6.]\n",
      " [ 1.  2.  3.]\n",
      " [ 3.  5.  3.]]\n",
      "  L = [[ 0.  0.  0.]\n",
      " [ 0.  0.  0.]\n",
      " [ 0.  0.  0.]\n",
      " [ 0.  0.  0.]]\n",
      "  perm = [2, 1, 0, 3]\n",
      "Passo 1.\n",
      "  U = [[ 7.          8.          9.        ]\n",
      " [ 0.          0.42857143  0.85714286]\n",
      " [ 0.          0.85714286  1.71428571]\n",
      " [ 0.          1.57142857 -0.85714286]]\n",
      "  L = [[ 1.          0.          0.        ]\n",
      " [ 0.57142857  0.          0.        ]\n",
      " [ 0.14285714  0.          0.        ]\n",
      " [ 0.42857143  0.          0.        ]]\n",
      "  perm = [2, 1, 0, 3]\n",
      "Passo 1, permutação.\n",
      "  U = [[ 7.          8.          9.        ]\n",
      " [ 0.          1.57142857 -0.85714286]\n",
      " [ 0.          0.85714286  1.71428571]\n",
      " [ 0.          0.42857143  0.85714286]]\n",
      "  L = [[ 1.          0.          0.        ]\n",
      " [ 0.42857143  0.          0.        ]\n",
      " [ 0.14285714  0.          0.        ]\n",
      " [ 0.57142857  0.          0.        ]]\n",
      "  perm = [2, 3, 0, 1]\n",
      "Passo 2.\n",
      "  U = [[ 7.          8.          9.        ]\n",
      " [ 0.          1.57142857 -0.85714286]\n",
      " [ 0.          0.          2.18181818]\n",
      " [ 0.          0.          1.09090909]]\n",
      "  L = [[ 1.          0.          0.        ]\n",
      " [ 0.42857143  1.          0.        ]\n",
      " [ 0.14285714  0.54545455  0.        ]\n",
      " [ 0.57142857  0.27272727  0.        ]]\n",
      "  perm = [2, 3, 0, 1]\n",
      "Passo 2, permutação.\n",
      "  U = [[ 7.          8.          9.        ]\n",
      " [ 0.          1.57142857 -0.85714286]\n",
      " [ 0.          0.          2.18181818]\n",
      " [ 0.          0.          1.09090909]]\n",
      "  L = [[ 1.          0.          0.        ]\n",
      " [ 0.42857143  1.          0.        ]\n",
      " [ 0.14285714  0.54545455  0.        ]\n",
      " [ 0.57142857  0.27272727  0.        ]]\n",
      "  perm = [2, 3, 0, 1]\n",
      "  (0, 2)\t1.0\n",
      "  (1, 3)\t1.0\n",
      "  (2, 0)\t1.0\n",
      "  (3, 1)\t1.0\n",
      "[[ 1.          0.          0.        ]\n",
      " [ 0.42857143  1.          0.        ]\n",
      " [ 0.14285714  0.54545455  1.        ]\n",
      " [ 0.57142857  0.27272727  0.5       ]]\n",
      "[[ 7.          8.          9.        ]\n",
      " [ 0.          1.57142857 -0.85714286]\n",
      " [ 0.          0.          2.18181818]]\n"
     ]
    },
    {
     "data": {
      "text/plain": [
       "matrix([[ 1.,  2.,  3.],\n",
       "        [ 4.,  5.,  6.],\n",
       "        [ 7.,  8.,  9.],\n",
       "        [ 3.,  5.,  3.]])"
      ]
     },
     "execution_count": 38,
     "metadata": {},
     "output_type": "execute_result"
    }
   ],
   "source": [
    "A = array([[1,2.,3], [4,5,6], [7,8,9], [3,5,3]])\n",
    "P,L,U = lu_p(A)\n",
    "print(P)\n",
    "print(L)\n",
    "print(U)\n",
    "P.todense()*L*U"
   ]
  },
  {
   "cell_type": "markdown",
   "metadata": {},
   "source": [
    "## Comentário sobre permutação e esparsidade\n",
    "\n",
    "Às vezes, queremos fatorar uma matriz $A$ que **já é esparsa**.\n",
    "Seria muito bom manter a esparsidade para as componentes $L$ e $U$ ($P$ é sempre esparsa, claro!).\n",
    "Mas nem sempre isso acontece.\n",
    "Pode ser interessante permutar **as variáveis** também, para manter a esparsidade da fatoração.\n",
    "Isso corresponde a eliminar as variáveis numa ordem diferente,\n",
    "evitando introduzir entradas não-zero na matriz.\n",
    "Em geral, isso depende da estrutura de esparsidade da matriz original $A$,\n",
    "e nem sempre é garantido que funcione."
   ]
  }
 ],
 "metadata": {
  "kernelspec": {
   "display_name": "Python 3",
   "language": "python",
   "name": "python3"
  },
  "language_info": {
   "codemirror_mode": {
    "name": "ipython",
    "version": 3
   },
   "file_extension": ".py",
   "mimetype": "text/x-python",
   "name": "python",
   "nbconvert_exporter": "python",
   "pygments_lexer": "ipython3",
   "version": "3.7.5"
  }
 },
 "nbformat": 4,
 "nbformat_minor": 1
}
