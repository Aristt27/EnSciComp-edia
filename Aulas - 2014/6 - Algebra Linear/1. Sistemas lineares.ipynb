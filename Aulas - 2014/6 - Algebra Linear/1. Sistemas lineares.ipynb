{
 "cells": [
  {
   "cell_type": "markdown",
   "metadata": {},
   "source": [
    "Plano de hoje\n",
    "-------------\n",
    "\n",
    "1. Ambiente de programação\n",
    "2. Usando o computador para calcular    \n",
    "3. Usando o computador para desenhar\n",
    "4. Usando o computador para integrar: quadraturas\n",
    "5. Usando o computador para aproximar: interpolação\n",
    "6. Álgebra linear computacional\n",
    "    1. Resolvendo sistemas lineares"
   ]
  },
  {
   "cell_type": "code",
   "execution_count": 1,
   "metadata": {},
   "outputs": [
    {
     "name": "stdout",
     "output_type": "stream",
     "text": [
      "Populating the interactive namespace from numpy and matplotlib\n"
     ]
    }
   ],
   "source": [
    "%pylab inline"
   ]
  },
  {
   "cell_type": "markdown",
   "metadata": {},
   "source": [
    "# Sistemas lineares\n",
    "\n",
    "Um sistema linear é uma equação da forma $Ax = b$ onde $A$ e $b$ são dados, e $x$ é uma incógnita.\n",
    "Normalmente, só usamos este nome quando $A$ é uma matriz e $b$ um vetor, e portanto $x$ será um vetor também,\n",
    "mas em geral poderíamos tanto usar o caso em que $b$ é \"maior\" (por exemplo, uma matriz também)\n",
    "quando o caso em que $A$ é menor (um vetor, ou até mesmo um escalar).\n",
    "Entretanto, os casos em que $A$ é \"pequena\" são \"fáceis\",\n",
    "e o caso em que $b$ é grande não apresenta mais dificuldade do que o caso normal.\n",
    "\n",
    "Já encontramos alguns exemplos em que aparecem equações lineares,\n",
    "por exemplo na interpolação de splines ou em mínimos quadrados.\n",
    "(Lembre que o caso da interpolação de Lagrange ou FFT a solução do sistema linear é explícita,\n",
    "devido a sua forma especial, o que já não é o caso das outras duas acima citadas.)"
   ]
  },
  {
   "cell_type": "markdown",
   "metadata": {},
   "source": [
    "## Observação\n",
    "\n",
    "Como vários outros problemas matemáticos deste curso,\n",
    "também as questões relativas a sistemas lineares já foram _muito_ estudadas.\n",
    "Assim, não é de se espantar que, da mesma forma que já encontramos a função\n",
    "`scipy.interpolate.interp1d` para calcular splines,\n",
    "também já há diversas funções (desta vez, no `numpy` mesmo, em geral)\n",
    "que tratam de sistemas lineares e problemas matriciais em geral.\n",
    "\n",
    "Vamos (re-)implementar algumas delas (e muitas vezes de forma menos eficiente ou menos correta)\n",
    "para compreender o mecanismo e os algoritmos.\n",
    "Mas, provavelmente, tanto por questões de velocidade como de praticidade,\n",
    "será bastante útil conhecer as funções do `numpy.linalg`."
   ]
  },
  {
   "cell_type": "markdown",
   "metadata": {},
   "source": [
    "## Eliminação\n",
    "\n",
    "O primeiro algoritmo de solução de sistemas lineares é conhecido por \"eliminação de Gauss\",\n",
    "apesar de ter sido descoberto pela primeira vez na China por volta de 150 a.C.\n",
    "e aparecer sob uma forma relativamente moderna com Newton (uns 150 anos antes de Gauss).\n",
    "\n",
    "A idéia é bastante simples:\n",
    "seja um sistema com $n$ equações e $m$ incógnitas.\n",
    "Usa-se uma das equações (a primeira, em geral) para escrever uma das variáveis\n",
    "(também em geral a primeira) em função das outras.\n",
    "Em seguida, substitui-se esta variável em todas as outras equações,\n",
    "obtendo um sistema com $n-1$ equações e $m-1$ incógnitas,\n",
    "após reagrupar os coeficientes de cada termo.\n",
    "\n",
    "Exemplo:\n",
    "$$ \\begin{align*}\n",
    "   x + 2y + 3z & = 10 \\\\\n",
    "  4x + 5y + 6z & = 15\n",
    "\\end{align*} $$\n",
    "Obtemos $x = 10 - 2y - 3z$ que na segunda equação dá\n",
    "$$ \\begin{align*}\n",
    "  4(10 - 2y - 3z) + 5y + 6z & = 15 \\\\\n",
    "  40 - 8y - 12z + 5y + 6z & = 15 \\\\\n",
    "  -3y - 6z & = - 25\n",
    "\\end{align*} $$"
   ]
  },
  {
   "cell_type": "markdown",
   "metadata": {},
   "source": [
    "## Industrializando a eliminação: notação matricial\n",
    "\n",
    "Um dos méritos de Gauss foi ter inventado a notação matricial\n",
    "(inicialmente, para resolver problemas de aritmética!)\n",
    "e com isso poupar muito espaço e tempo ao se resolver sistemas.\n",
    "Com esta nova roupagem, foi possível refinar o método acima para torná-lo\n",
    "praticamente automático.\n",
    "\n",
    "Observe que _eliminar a primeira variável da segunda equação, usando a primeira_\n",
    "pode ser obtido ao multiplicar a primeira equação por $-4$ e somar à segunda.\n",
    "Assim, podemos trabalhar unicamente com os coeficientes\n",
    "(aliás, se você pensar bem, o **nome** que damos às incógnitas é totalmente irrelevante)\n",
    "num \"dispositivo prático\":\n",
    "\n",
    "$$ \\begin{bmatrix}1 & 2 & 3 & \\vert & 10 \\\\ 4 & 5 & 6 & \\vert & 15 \\end{bmatrix} $$\n",
    "$$ \\begin{bmatrix}1 & 2 & 3 & \\vert & 10 \\\\\n",
    "  4 + (-4)\\times 1 & 5 + (-4)\\times 2 & 6 + (-4) \\times 3 & \\vert & 15 + (-4)\\times 10\n",
    "  \\end{bmatrix} $$"
   ]
  },
  {
   "cell_type": "markdown",
   "metadata": {},
   "source": [
    "### Exercício\n",
    "\n",
    "Implemente a eliminação para matrizes."
   ]
  },
  {
   "cell_type": "code",
   "execution_count": 2,
   "metadata": {},
   "outputs": [],
   "source": [
    "def elim(A,b):\n",
    "    \"\"\" Elimina as equações do sistema  Ax = b.\n",
    "        A matriz  A  será modificada, ficando sob forma triangular superior, e b será o vetor correspondente ao novo sistema. \"\"\"\n",
    "    # Os coeficientes de A estão em A[i][j]\n",
    "    #for i in #:\n",
    "    #    for ii in #:\n",
    "    #        for j in #:\n",
    "    #\n",
    "    # Como A e b serão modificados, não é preciso retorná-los"
   ]
  },
  {
   "cell_type": "markdown",
   "metadata": {},
   "source": [
    "Para testar, use o sistema que já resolvemos:"
   ]
  },
  {
   "cell_type": "code",
   "execution_count": 5,
   "metadata": {},
   "outputs": [
    {
     "name": "stdout",
     "output_type": "stream",
     "text": [
      "[[ 1  2  3]\n",
      " [ 0 -3 -6]]\n",
      "[ 10 -15]\n"
     ]
    }
   ],
   "source": [
    "A = array([[1, 2, 3], [4, 5, 6]])\n",
    "b = array([10, 25])\n",
    "elim(A,b)\n",
    "print(A)\n",
    "print(b)"
   ]
  },
  {
   "cell_type": "code",
   "execution_count": 6,
   "metadata": {},
   "outputs": [
    {
     "name": "stdout",
     "output_type": "stream",
     "text": [
      "[[ 1  2  3]\n",
      " [ 0 -3 -6]\n",
      " [ 0  0  0]]\n",
      "[ 10 -15 -28]\n"
     ]
    }
   ],
   "source": [
    "A = array([[1, 2, 3], [4, 5, 6], [7, 8, 9]])\n",
    "b = array([10, 25, 12])\n",
    "elim(A,b)\n",
    "print(A)\n",
    "print(b)"
   ]
  },
  {
   "cell_type": "markdown",
   "metadata": {},
   "source": [
    "E quando você estiver confiante, elimine em sistemas de maior dimensão!"
   ]
  },
  {
   "cell_type": "code",
   "execution_count": 9,
   "metadata": {},
   "outputs": [],
   "source": [
    "A = rand(8, 10)\n",
    "b = rand(12)"
   ]
  },
  {
   "cell_type": "code",
   "execution_count": 10,
   "metadata": {},
   "outputs": [
    {
     "name": "stdout",
     "output_type": "stream",
     "text": [
      "[[ 0.1832  0.7933  0.0568  0.8782  0.5663  0.8423  0.2595  0.4746  0.1712  0.1462]\n",
      " [ 0.     -1.7939  0.7184 -1.9777 -1.0799 -2.1284  0.0775 -1.3284 -0.4221 -0.0418]\n",
      " [ 0.      0.     -0.109   0.4251  0.8525  0.1706  0.1721  0.1686  0.9278 -0.0392]\n",
      " [ 0.      0.      0.      1.9557  4.7136  1.0244  1.293   0.5229  5.0329  0.3925]\n",
      " [ 0.      0.      0.      0.      1.2533  0.6191  0.4526  0.1231  1.6812  0.6898]\n",
      " [ 0.      0.      0.      0.      0.      0.5172  0.1845  0.6758  0.9668  0.4971]\n",
      " [ 0.      0.      0.      0.      0.      0.      0.4858  0.5993  0.4787  0.5099]\n",
      " [ 0.      0.      0.      0.      0.      0.      0.      0.7929  0.8462  0.1391]]\n",
      "[ 0.9829 -2.3143  0.9138  4.9289  1.2226 -0.24   -0.1387 -0.5481  0.4224  0.7717  0.9484  0.1973]\n"
     ]
    }
   ],
   "source": [
    "elim(A,b)\n",
    "np.set_printoptions(precision=4,linewidth=100)#, suppress=True) # Para ficar com cara de matriz no print\n",
    "print(A)\n",
    "print(b)"
   ]
  },
  {
   "cell_type": "markdown",
   "metadata": {},
   "source": [
    "## Substituição\n",
    "\n",
    "Ao eliminar, obtemos um sistema cada vez menor, até que ele tenha $n-m$ equações e $0$ incógnitas,\n",
    "ou o contrário: $0$ equações e $m-n$ incógnitas.\n",
    "\n",
    "### O caso simples: $n = m$\n",
    "\n",
    "Se $n$ = $m$, não restam nem equações nem incógnitas, e portanto o nosso trabalho acabou.\n",
    "Na verdade, vamos parar uma etapa antes, com uma equação e uma incógnita,\n",
    "o que dará o valor desta.\n",
    "Em seguida, usamos este valor que acabamos de descobrir para determinar a outra incógnita na etapa $(2,2)$.\n",
    "E assim por diante, vamos determinando sucessivamente os valores de cada uma das incógnitas,\n",
    "até que as tenhamos todas.\n",
    "\n",
    "### O caso subdeterminado: $m > n$\n",
    "\n",
    "Temos mais equações do que incógnitas,\n",
    "então vamos obter, ao final, $m-n$ incógnitas \"livres\",\n",
    "que não estão sujeitas a nenhuma relação.\n",
    "Podemos proceder de várias formas, mas a mais simples é fixá-las todas em zero\n",
    "e a partir daí aplicar o procedimento anterior nas outras variávies,\n",
    "que têm equações associadas.\n",
    "\n",
    "### O caso superdeterminado: $n > m$\n",
    "\n",
    "Aqui, temos o contrário: ao final, obtemos $n-m$ equações **sem** incógnitas.\n",
    "Assim, a menos de ter muita sorte e que estas equações sejam todas equivalentes a $0 = 0$,\n",
    "este sistema será impossível.\n",
    "Mais uma vez, há algumas formas de continuar,\n",
    "dentre as quais, determinar a \"solução de mínimos quadrados\" associada."
   ]
  },
  {
   "cell_type": "markdown",
   "metadata": {},
   "source": [
    "### Exercício\n",
    "\n",
    "Implemente a substituição para o caso $n = m$.\n",
    "O seu programa deve testar se a matriz $A$ é triangular superior\n",
    "e que o par $(A,b)$ corresponde efetivamente ao caso $n = m$."
   ]
  },
  {
   "cell_type": "code",
   "execution_count": 11,
   "metadata": {},
   "outputs": [],
   "source": [
    "def subst_solve(A,b):\n",
    "    # Checar A e b\n",
    "    #\n",
    "    #\n",
    "    #\n",
    "    \n",
    "    # Resolver e determinar x\n",
    "    #\n",
    "    #\n",
    "    #\n",
    "    return x"
   ]
  },
  {
   "cell_type": "markdown",
   "metadata": {},
   "source": [
    "Verifique resolvendo um sistema aleatório,\n",
    "e compare com o resultado de `solve`."
   ]
  },
  {
   "cell_type": "code",
   "execution_count": 13,
   "metadata": {},
   "outputs": [
    {
     "data": {
      "text/plain": [
       "array([-0.3507,  1.3085, -0.4768, -0.1947,  1.4629, -0.1836, -0.0472, -0.4313,  0.4045, -0.2354])"
      ]
     },
     "execution_count": 13,
     "metadata": {},
     "output_type": "execute_result"
    }
   ],
   "source": [
    "A = rand(10,10)\n",
    "b = rand(10)\n",
    "elim(A,b)\n",
    "subst_solve(A, b)"
   ]
  },
  {
   "cell_type": "code",
   "execution_count": 14,
   "metadata": {},
   "outputs": [
    {
     "data": {
      "text/plain": [
       "array([-0.3507,  1.3085, -0.4768, -0.1947,  1.4629, -0.1836, -0.0472, -0.4313,  0.4045, -0.2354])"
      ]
     },
     "execution_count": 14,
     "metadata": {},
     "output_type": "execute_result"
    }
   ],
   "source": [
    "solve(A,b)"
   ]
  },
  {
   "cell_type": "markdown",
   "metadata": {},
   "source": [
    "Você também pode verificar \"na mão\" fazendo o produto:"
   ]
  },
  {
   "cell_type": "code",
   "execution_count": 15,
   "metadata": {},
   "outputs": [
    {
     "data": {
      "text/plain": [
       "array([ -5.5511e-17,   0.0000e+00,  -1.1102e-16,  -4.4409e-16,  -2.7756e-17,   0.0000e+00,\n",
       "         2.2204e-16,  -1.1102e-16,   2.2204e-16,   0.0000e+00])"
      ]
     },
     "execution_count": 15,
     "metadata": {},
     "output_type": "execute_result"
    }
   ],
   "source": [
    "numpy.dot(A,_) - b"
   ]
  },
  {
   "cell_type": "markdown",
   "metadata": {},
   "source": [
    "O que é melhor, é que este código também resolve sistemas sobredeterminados:"
   ]
  },
  {
   "cell_type": "code",
   "execution_count": 16,
   "metadata": {},
   "outputs": [
    {
     "data": {
      "text/plain": [
       "array([-0.7084, -2.6865,  2.5496,  2.4773,  0.9516, -0.077 , -0.1576, -0.685 , -0.2512, -0.2209,\n",
       "        0.    ,  0.    ])"
      ]
     },
     "execution_count": 16,
     "metadata": {},
     "output_type": "execute_result"
    }
   ],
   "source": [
    "A = rand(10,12)\n",
    "b = rand(10)\n",
    "elim(A,b)\n",
    "subst_solve(A,b)"
   ]
  },
  {
   "cell_type": "code",
   "execution_count": 17,
   "metadata": {},
   "outputs": [
    {
     "data": {
      "text/plain": [
       "array([  1.1102e-16,   8.3267e-17,  -8.3267e-17,   2.2204e-16,   0.0000e+00,   0.0000e+00,\n",
       "         0.0000e+00,   0.0000e+00,   0.0000e+00,   0.0000e+00])"
      ]
     },
     "execution_count": 17,
     "metadata": {},
     "output_type": "execute_result"
    }
   ],
   "source": [
    "dot(A,_) - b"
   ]
  },
  {
   "cell_type": "markdown",
   "metadata": {},
   "source": [
    "## Fatoração LU\n",
    "\n",
    "Um subproduto da eliminação é a fatoração LU: podemos escrever $A = LU$ onde $L$ é triangular inferior (_lower_)\n",
    "e $U$ é triangular superior (_upper_).\n",
    "\n",
    "### Exercício\n",
    "\n",
    "Deduza o algoritmo que permite obter $L$, sabendo que $U$ será a matriz resultante da eliminação.\n",
    "\n",
    "Deduza também que é possível guardar $L$ e $U$ no mesmo espaço de $A$.\n",
    "\n",
    "Note que, da mesma forma que é possível resolver $Ux = b'$ com relativa facilidade (substituição),\n",
    "também é possível resolver $Ly = b$ com a mesma facilidade.\n",
    "Assim, a fatoração LU permite \"quebrar\" o problema de resolver $Ax = b$ em duas etapas:\n",
    "primeiro, resolva $Ly = b$; em seguida, resolva $Ux = y$."
   ]
  },
  {
   "cell_type": "markdown",
   "metadata": {},
   "source": [
    "Use, de novo, a matriz fácil para testes:"
   ]
  },
  {
   "cell_type": "code",
   "execution_count": 56,
   "metadata": {},
   "outputs": [
    {
     "name": "stdout",
     "output_type": "stream",
     "text": [
      "[[1 0]\n",
      " [4 1]]\n",
      "[[ 1  2  3]\n",
      " [ 0 -3 -6]]\n"
     ]
    },
    {
     "data": {
      "text/plain": [
       "array([[0, 0, 0],\n",
       "       [0, 0, 0]])"
      ]
     },
     "execution_count": 56,
     "metadata": {},
     "output_type": "execute_result"
    }
   ],
   "source": [
    "A = array([[1, 2, 3], [4, 5, 6]])\n",
    "L,U = lu(A)\n",
    "print(L)\n",
    "print(U)\n",
    "dot(L,U) - A"
   ]
  },
  {
   "cell_type": "markdown",
   "metadata": {},
   "source": [
    "E agora, use matrizes aleatórias para verificar que realmente tudo funciona como previsto:"
   ]
  },
  {
   "cell_type": "code",
   "execution_count": 57,
   "metadata": {},
   "outputs": [
    {
     "name": "stdout",
     "output_type": "stream",
     "text": [
      "[[ 1.      0.      0.      0.    ]\n",
      " [ 0.407   1.      0.      0.    ]\n",
      " [ 0.3955  0.8339  1.      0.    ]\n",
      " [ 0.2301  0.1393 -6.8858  1.    ]]\n",
      "[[ 0.8437  0.4974  0.3309  0.6037  0.9959  0.0448]\n",
      " [ 0.      0.7435  0.7299  0.1283  0.4714  0.4718]\n",
      " [ 0.      0.     -0.0367 -0.1375  0.0396  0.538 ]\n",
      " [ 0.      0.      0.     -0.2258  0.693   3.7601]]\n"
     ]
    },
    {
     "data": {
      "text/plain": [
       "array([[  0.0000e+00,   0.0000e+00,   0.0000e+00,   0.0000e+00,   0.0000e+00,   0.0000e+00],\n",
       "       [  0.0000e+00,   0.0000e+00,   0.0000e+00,   0.0000e+00,   0.0000e+00,   0.0000e+00],\n",
       "       [  0.0000e+00,   0.0000e+00,   0.0000e+00,   0.0000e+00,   0.0000e+00,  -1.1102e-16],\n",
       "       [  0.0000e+00,   0.0000e+00,   0.0000e+00,   1.1102e-16,   0.0000e+00,  -1.1102e-16]])"
      ]
     },
     "execution_count": 57,
     "metadata": {},
     "output_type": "execute_result"
    }
   ],
   "source": [
    "A = rand(4,6)\n",
    "L,U = lu(A)\n",
    "print(L)\n",
    "print(U)\n",
    "dot(L,U) - A"
   ]
  },
  {
   "cell_type": "code",
   "execution_count": 58,
   "metadata": {},
   "outputs": [
    {
     "name": "stdout",
     "output_type": "stream",
     "text": [
      "[[  1.0000e+00   0.0000e+00   0.0000e+00   0.0000e+00]\n",
      " [  1.9159e+00   1.0000e+00   0.0000e+00   0.0000e+00]\n",
      " [  7.1473e-01   1.1364e-01   1.0000e+00   0.0000e+00]\n",
      " [  2.4105e-01  -3.4024e-01   1.1895e+00   1.0000e+00]\n",
      " [  1.4785e-02  -2.2748e+00   8.4494e+00  -1.4888e+02]\n",
      " [  1.2674e+00   7.1379e-01  -1.4653e+00   2.9352e+01]]\n",
      "[[ 0.4793  0.6043  0.7644  0.236 ]\n",
      " [ 0.     -0.3473 -1.131   0.2943]\n",
      " [ 0.      0.     -0.2732  0.6088]\n",
      " [ 0.      0.      0.      0.0249]]\n"
     ]
    },
    {
     "data": {
      "text/plain": [
       "array([[  0.0000e+00,   0.0000e+00,   0.0000e+00,   0.0000e+00],\n",
       "       [  0.0000e+00,   0.0000e+00,  -1.1102e-16,   0.0000e+00],\n",
       "       [  0.0000e+00,   0.0000e+00,   0.0000e+00,   0.0000e+00],\n",
       "       [  0.0000e+00,   0.0000e+00,   0.0000e+00,  -1.1102e-16],\n",
       "       [  0.0000e+00,   0.0000e+00,   1.1102e-16,  -3.3307e-16],\n",
       "       [  0.0000e+00,   0.0000e+00,   0.0000e+00,   0.0000e+00]])"
      ]
     },
     "execution_count": 58,
     "metadata": {},
     "output_type": "execute_result"
    }
   ],
   "source": [
    "A = rand(6,4)\n",
    "L,U = lu(A)\n",
    "print(L)\n",
    "print(U)\n",
    "dot(L,U) - A"
   ]
  },
  {
   "cell_type": "code",
   "execution_count": 59,
   "metadata": {},
   "outputs": [
    {
     "name": "stdout",
     "output_type": "stream",
     "text": [
      "[[  1.       0.       0.       0.       0.       0.    ]\n",
      " [  0.6163   1.       0.       0.       0.       0.    ]\n",
      " [  0.1315  12.0204   1.       0.       0.       0.    ]\n",
      " [  0.1832  28.853    3.5494   1.       0.       0.    ]\n",
      " [  1.2273  16.7912   2.7378   1.1546   1.       0.    ]\n",
      " [  1.6979  20.4167   3.0092   1.3024  -4.206    1.    ]]\n",
      "[[ 0.5608  0.1239  0.2035  0.6827  0.9891  0.5895]\n",
      " [ 0.      0.0309  0.1369 -0.265  -0.1336  0.5714]\n",
      " [ 0.      0.     -0.8433  3.9629  1.9636 -6.884 ]\n",
      " [ 0.      0.      0.     -5.6879 -3.2399  8.4901]\n",
      " [ 0.      0.      0.      0.      0.0424 -0.8296]\n",
      " [ 0.      0.      0.      0.      0.     -6.1029]]\n"
     ]
    },
    {
     "data": {
      "text/plain": [
       "array([[  0.0000e+00,   0.0000e+00,   0.0000e+00,   0.0000e+00,   0.0000e+00,   0.0000e+00],\n",
       "       [  0.0000e+00,   0.0000e+00,   0.0000e+00,   0.0000e+00,   0.0000e+00,   1.1102e-16],\n",
       "       [  0.0000e+00,   0.0000e+00,   1.1102e-16,   0.0000e+00,  -1.1102e-16,  -3.3307e-16],\n",
       "       [  0.0000e+00,   0.0000e+00,  -1.1102e-16,  -5.5511e-16,   1.1102e-16,   7.7716e-16],\n",
       "       [  0.0000e+00,   0.0000e+00,   1.1102e-16,   1.1102e-16,  -3.3307e-16,   8.8818e-16],\n",
       "       [  0.0000e+00,   0.0000e+00,  -2.2204e-16,   2.2204e-16,  -2.2204e-16,  -5.5511e-16]])"
      ]
     },
     "execution_count": 59,
     "metadata": {},
     "output_type": "execute_result"
    }
   ],
   "source": [
    "A = rand(6,6)\n",
    "L,U = lu(A)\n",
    "print(L)\n",
    "print(U)\n",
    "dot(L,U) - A"
   ]
  },
  {
   "cell_type": "markdown",
   "metadata": {},
   "source": [
    "## Pivôs e permutações\n",
    "\n",
    "Nem sempre é possível obter a fatoração LU diretamente, pois podemos encontrar um zero na diagonal,\n",
    "o que torna impossível usar a equação para eliminar.\n",
    "A saída é permutar as equações para poder continuar.\n",
    "Isso não muda em nada as variáveis (claro!) mas mudará $b$, pois vamos também permutar seus elementos.\n",
    "Assim, é preciso memorizar esta operação, o que é feito em geral numa\n",
    "\"matriz de permutações\".\n",
    "\n",
    "### Exercício\n",
    "\n",
    "Além do critério óbvio que buscamos um coeficiente que seja não-nulo\n",
    "(na coluna correspondente à variável),\n",
    "também é comum escolher o coeficiente de maior módulo.\n",
    "Implemente isso."
   ]
  },
  {
   "cell_type": "code",
   "execution_count": null,
   "metadata": {},
   "outputs": [],
   "source": []
  }
 ],
 "metadata": {
  "kernelspec": {
   "display_name": "Python 3",
   "language": "python",
   "name": "python3"
  },
  "language_info": {
   "codemirror_mode": {
    "name": "ipython",
    "version": 3
   },
   "file_extension": ".py",
   "mimetype": "text/x-python",
   "name": "python",
   "nbconvert_exporter": "python",
   "pygments_lexer": "ipython3",
   "version": "3.7.5"
  }
 },
 "nbformat": 4,
 "nbformat_minor": 1
}
