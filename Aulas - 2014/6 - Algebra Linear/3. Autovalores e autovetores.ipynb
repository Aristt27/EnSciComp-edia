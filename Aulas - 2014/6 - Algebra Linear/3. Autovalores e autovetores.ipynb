{
 "metadata": {
  "name": "",
  "signature": "sha256:27685e3cbedabe360de036b9e19a4a1993efae25d97133c2e955ac6988eebd14"
 },
 "nbformat": 3,
 "nbformat_minor": 0,
 "worksheets": [
  {
   "cells": [
    {
     "cell_type": "markdown",
     "metadata": {},
     "source": [
      "Plano de hoje\n",
      "-------------\n",
      "\n",
      "1. Ambiente de programa\u00e7\u00e3o\n",
      "2. Usando o computador para calcular    \n",
      "3. Usando o computador para desenhar\n",
      "4. Usando o computador para integrar: quadraturas\n",
      "5. Usando o computador para aproximar: interpola\u00e7\u00e3o\n",
      "6. \u00c1lgebra linear computacional\n",
      "    1. Resolvendo sistemas lineares\n",
      "    2. Fatora\u00e7\u00e3o\n",
      "    3. **Autovalores e autovetores**"
     ]
    },
    {
     "cell_type": "code",
     "collapsed": false,
     "input": [
      "%pylab inline"
     ],
     "language": "python",
     "metadata": {},
     "outputs": [
      {
       "output_type": "stream",
       "stream": "stdout",
       "text": [
        "Populating the interactive namespace from numpy and matplotlib\n"
       ]
      }
     ],
     "prompt_number": 1
    },
    {
     "cell_type": "markdown",
     "metadata": {},
     "source": [
      "# Autovetores e autovalores\n",
      "\n",
      "Um autovetor de uma matriz quadrada $A$ \u00e9 um vetor n\u00e3o nulo $v$ tal que $Av$ seja colinear a $v$.\n",
      "Em termos mais alg\u00e9bricos, existe um escalar $\\lambda$ tal que\n",
      "$$ Av = \\lambda v.$$\n",
      "\n",
      "Os autovetores fornecem uma nova forma de fatorar a matriz $A$.\n",
      "Se esta admitir uma base de autovetores (por exemplo, for sim\u00e9trica!),\n",
      "podemos formar a _diagonaliza\u00e7\u00e3o_ da matriz $A$,\n",
      "que \u00e9 dada pela matriz dos autovetores $V = [v_1, v_2, \\ldots, v_n]$\n",
      "e pela matriz diagonal dos autovalores $D = \\text{diag}(\\lambda_1, \\lambda_2, \\ldots, \\lambda_n)$:\n",
      "$$ AV = VD. $$\n",
      "\n",
      "Quando a matriz $A$ \u00e9 sim\u00e9trica, os autovetores s\u00e3o ortogonais entre si.\n",
      "Isso permite inverter a matriz $V$ com grande facilidade, j\u00e1 que\n",
      "$V^{T} V = \\text{diag}(N_1^2, N_2^2, \\ldots, N_n^2)$ onde $N_i$ \u00e9 a _norma_ do vetor $v_i$.\n",
      "Em particular, se tivermos o cuidado de tomar autovetores de norma $1$,\n",
      "a transposta de $V$ ser\u00e1 a sua inversa!"
     ]
    },
    {
     "cell_type": "markdown",
     "metadata": {},
     "source": [
      "## Calculando autovetores\n",
      "\n",
      "Um dos algoritmos mais cl\u00e1ssicos de c\u00e1lculo de autovetores \u00e9 \"multiplicar e normalizar\":\n",
      "tome um vetor \"qualquer\" $u_0$ e aplique a matriz $A$, obtendo $w_1 = Au_0$.\n",
      "Normalize $w_1$, ou seja, divida pela sua norma para obter um vetor unit\u00e1rio de mesma dire\u00e7\u00e3o,\n",
      "e chame-o de $u_1$.\n",
      "Repita: $w_2 = Au_1$, e $u_2 = \\frac{w_2}{N(w_2)}$.\n",
      "E assim por diante.\n",
      "Em geral (isso depende de $u_0$), a sequ\u00eancia dos $u_n$ converge para um autovetor $u$ correspondente\n",
      "ao autovalor de $A$ de maior m\u00f3dulo."
     ]
    },
    {
     "cell_type": "markdown",
     "metadata": {},
     "source": [
      "## Estudando a converg\u00eancia\n",
      "\n",
      "Suponha que o \"segundo\" autovalor de $A$ seja $\\lambda_2$, em m\u00f3dulo menor do que $\\lambda_1$.\n",
      "Isso quer dizer que, para todo vetor $u = \\sum c_i v_i$ (onde os $v_i$ s\u00e3o os autovetores de $A$),\n",
      "temos\n",
      "$$ Au = \\sum \\lambda_i c_i v_i. $$\n",
      "Al\u00e9m disso, note que a normaliza\u00e7\u00e3o poderia ser feita depois:\n",
      "se definirmos $x_n = A^n u_0$, temos que $u_n = \\frac{x_n}{N(x_n)}$.\n",
      "\n",
      "Cada itera\u00e7\u00e3o deste m\u00e9todo ir\u00e1 aumentar o peso do coeficiente de $v_1$,\n",
      "pois ele ser\u00e1 multiplicado pelo maior dos n\u00fameros $\\lambda_i$,\n",
      "e temos $A^n u = \\sum \\lambda_i^n c_i v_i$.\n",
      "Para ver como o m\u00e9todo converge, vamos olhar para o erro, ou seja,\n",
      "a componente de $u_n$ que n\u00e3o est\u00e1 na dire\u00e7\u00e3o de $v_1$:\n",
      "$$ \\frac{\\sum _ {i > 1} \\lambda_i^n c_i v_i}{N(x_n)}. $$\n",
      "S\u00f3 que a norma de $x_n$ \u00e9 determinada principalmente por $c_1 \\lambda_1^n$,\n",
      "que \u00e9 muito maior do que todos os outros.\n",
      "Idem, inclusive, para o termo de erro:\n",
      "a maior contribui\u00e7\u00e3o para sua norma vem de $c_2 \\lambda_2^n$.\n",
      "Assim, o erro \u00e9 $\\left| \\frac{\\lambda_2}{\\lambda_1} \\right|^n \\to 0$."
     ]
    },
    {
     "cell_type": "markdown",
     "metadata": {},
     "source": [
      "### Exerc\u00edcio\n",
      "\n",
      "Implemente este algoritmo,\n",
      "e pense sobre o crit\u00e9rio de parada para o mesmo.\n",
      "Observe a velocidade de converg\u00eancia."
     ]
    },
    {
     "cell_type": "code",
     "collapsed": false,
     "input": [
      "def autovetor(A, tol=1e-6):\n",
      "    n,m = shape(A)\n",
      "    assert n==m, 'A must be square'\n",
      "    \n",
      "    # Continue...\n",
      "    return v, l"
     ],
     "language": "python",
     "metadata": {},
     "outputs": [],
     "prompt_number": 2
    },
    {
     "cell_type": "markdown",
     "metadata": {},
     "source": [
      "Use este algoritmo para calcular o \"maior\" autovalor de algumas matrizes (por exemplo, a matriz de Hilbert!)."
     ]
    },
    {
     "cell_type": "code",
     "collapsed": false,
     "input": [
      "A = rand(20,20)\n",
      "#print(A)\n",
      "v, l = autovetor(A)"
     ],
     "language": "python",
     "metadata": {},
     "outputs": [],
     "prompt_number": 3
    },
    {
     "cell_type": "code",
     "collapsed": false,
     "input": [
      "diff = dot(A,v) - l*v\n",
      "print('Norma 2: {}, Norma 1: {}'.format(norm(diff), norm(diff,ord=1)))"
     ],
     "language": "python",
     "metadata": {},
     "outputs": [
      {
       "output_type": "stream",
       "stream": "stdout",
       "text": [
        "Norma 2: 7.500571903608226e-07, Norma 1: 2.6460425601726456e-06\n"
       ]
      }
     ],
     "prompt_number": 4
    },
    {
     "cell_type": "markdown",
     "metadata": {},
     "source": [
      "### Observa\u00e7\u00e3o\n",
      "\n",
      "Se o limite um autovetor tal que $Av = \\lambda v$, \u00e9 poss\u00edvel tamb\u00e9m ter uma estimativa de $\\lambda$\n",
      "comparando os m\u00f3dulos de $v_n$ e $A v_n = u _ {n+1}$."
     ]
    },
    {
     "cell_type": "markdown",
     "metadata": {},
     "source": [
      "## Calculando autovalores\n",
      "\n",
      "\u00c9 poss\u00edvel determinar os autovalores de uma matriz atrav\u00e9s de uma equa\u00e7\u00e3o polinomial em $\\lambda$:\n",
      "$$ \\det(A - \\lambda I) = 0. $$\n",
      "\n",
      "O c\u00e1lculo \"pela defini\u00e7\u00e3o\" do polin\u00f4mio caracter\u00edstico de uma matriz $n \\times n$\n",
      "requer calcular todas as $n!$ permuta\u00e7\u00f5es.\n",
      "Isso \u00e9 muito custoso, e ap\u00f3s o qu\u00ea ainda ter\u00edamos que achar as ra\u00edzes de um polin\u00f4mio de grau relativamente grande,\n",
      "o que dar\u00e1 trabalho tamb\u00e9m para o m\u00e9todo de Newton (por exemplo).\n",
      "\n",
      "Existem m\u00e9todos mais eficientes para calcular o polin\u00f4mio caracter\u00edstico,\n",
      "mas n\u00e3o vamos entrar no detalhe agora, pela raz\u00e3o a seguir:"
     ]
    },
    {
     "cell_type": "markdown",
     "metadata": {},
     "source": [
      "## Autovalores $\\not\\Rightarrow$ autovalores! \n",
      "\n",
      "Uma vez conhecidos os autovalores, podemos resolver o sistema $(A - \\lambda_k)v = 0$\n",
      "(que \u00e9 **singular**!) e encontrar uma solu\u00e7\u00e3o n\u00e3o-nula, determinando o autovetor correspondente.\n",
      "\n",
      "Em geral, calcular ra\u00edzes de polin\u00f4mios tamb\u00e9m se faz por um m\u00e9todo iterativo\n",
      "(quando o grau \u00e9 maior do que 4, por exemplo),\n",
      "e haver\u00e1 um erro (num\u00e9rico, por exemplo) no valor de $\\lambda$\n",
      "que ser\u00e1 aproximado por $\\tilde\\lambda$.\n",
      "Assim, \u00e9 poss\u00edvel que a matriz $A - \\tilde\\lambda I$ seja invers\u00edvel,\n",
      "e que o sistema na verdade s\u00f3 tenha a solu\u00e7\u00e3o $v = 0$, que n\u00e3o desejamos.\n",
      "Portanto, \u00e9 preciso fazer as contas de $(A - \\lambda I)v = 0$ levando em conta que\n",
      "a matriz ser\u00e1 \"quase-singular\" e que isto corresponde \u00e0 liberdade necess\u00e1ria para achar um autovetor!"
     ]
    },
    {
     "cell_type": "markdown",
     "metadata": {},
     "source": [
      "# Calculando autovetores correspondentes a outros autovalores"
     ]
    },
    {
     "cell_type": "markdown",
     "metadata": {},
     "source": [
      "Poder\u00edamos calcular o autovetor correspondente ao **menor** autovalor fazendo o contr\u00e1rio:\n",
      "multiplicamos $u_0$ por $A^{-1}$ sucessivamente, o que **divide** os coeficientes.\n",
      "Claro, isso s\u00f3 funciona se $A$ n\u00e3o tiver um autovalor igual a zero.\n",
      "\n",
      "Poder\u00edamos modificar um pouco este procedimento:\n",
      "chutamos (de alguma forma) que h\u00e1 um autovalor pr\u00f3ximo a $z$, um n\u00famero complexo.\n",
      "Assim, vamos tentar calcular qual ser\u00e1 o autovetor correspondente.\n",
      "Para isso, veja que $A_z = A - zI$ tem um autovalor bem pr\u00f3ximo de zero,\n",
      "e assim iterando o procedimento acima, temos o autovetor correspondente."
     ]
    },
    {
     "cell_type": "markdown",
     "metadata": {},
     "source": [
      "### Exerc\u00edcio\n",
      "\n",
      "Incorpore a solu\u00e7\u00e3o de sistemas lineares para implementar a multiplica\u00e7\u00e3o por $(A - zI)^{-1}$.\n",
      "Use a fatora\u00e7\u00e3o LU de $(A - zI)$ para tornar a solu\u00e7\u00e3o muito mais r\u00e1pida!"
     ]
    },
    {
     "cell_type": "code",
     "collapsed": false,
     "input": [
      "def lu(A):\n",
      "    \"\"\" Fatora\u00e7\u00e3o LU da matriz  A.\n",
      "        Retorna duas novas matrizes L e U; A n\u00e3o ser\u00e1 alterada. \"\"\"\n",
      "    # Os coeficientes de A est\u00e3o em A[i][j]\n",
      "    (n,m) = shape(A)\n",
      "    rank = min(n,m)\n",
      "    L = zeros((n, rank), dtype=A.dtype)\n",
      "    U = A.copy()\n",
      "    for i in range(rank):\n",
      "        pivot_coeff = U[i][i]\n",
      "        pivot_line = U[i][i+1:]\n",
      "        L[i][i] = 1\n",
      "        for ii in range(i+1,n):\n",
      "            multiplier = U[ii][i]/pivot_coeff\n",
      "            U[ii][i] = 0\n",
      "            U[ii][i+1:] -= multiplier * pivot_line\n",
      "            L[ii][i] = multiplier\n",
      "    U = U[:rank]\n",
      "    return L,U"
     ],
     "language": "python",
     "metadata": {},
     "outputs": [],
     "prompt_number": 5
    },
    {
     "cell_type": "code",
     "collapsed": false,
     "input": [
      "def nearest_eigenvalue(A,z, tol=1e-6, nmax=100):\n",
      "    \"\"\" Finds the eigenvalue of  A  nearest to  z (complex). Iterative method. \"\"\"\n",
      "    n,m = shape(A)\n",
      "    assert n==m, 'A must be square'\n",
      "    \n",
      "    # Continue\n",
      "    return w, l, n_iter"
     ],
     "language": "python",
     "metadata": {},
     "outputs": [],
     "prompt_number": 6
    },
    {
     "cell_type": "code",
     "collapsed": false,
     "input": [
      "A = rand(10,10)\n",
      "eigvals(A)"
     ],
     "language": "python",
     "metadata": {},
     "outputs": [
      {
       "metadata": {},
       "output_type": "pyout",
       "prompt_number": 7,
       "text": [
        "array([ 5.10023620+0.j        , -0.23567369+0.836374j  ,\n",
        "       -0.23567369-0.836374j  ,  0.64624020+0.j        ,\n",
        "        0.41274069+0.28299748j,  0.41274069-0.28299748j,\n",
        "       -0.92045511+0.j        , -0.28011615+0.45747926j,\n",
        "       -0.28011615-0.45747926j, -0.27261671+0.j        ])"
       ]
      }
     ],
     "prompt_number": 7
    },
    {
     "cell_type": "code",
     "collapsed": false,
     "input": [
      "z = .5\n",
      "v, l, n = nearest_eigenvalue(A,z)"
     ],
     "language": "python",
     "metadata": {},
     "outputs": [],
     "prompt_number": 8
    },
    {
     "cell_type": "code",
     "collapsed": false,
     "input": [
      "print('Produto ', dot(A,v))\n",
      "print('Prod - z', dot(A - z*identity(10),v))\n",
      "print('Solve   ', solve(A - z*identity(10),v))\n",
      "\n",
      "print('v       ', v, l)\n",
      "print(n)\n"
     ],
     "language": "python",
     "metadata": {},
     "outputs": [
      {
       "output_type": "stream",
       "stream": "stdout",
       "text": [
        "Produto  [ 0.24284993  0.2020118  -0.13483333  0.15150666  0.01369129 -0.45402243\n",
        "  0.15217756 -0.05920166  0.14182851 -0.1536404 ]\n",
        "Prod - z [ 0.05495546  0.04571405 -0.03051198  0.03428505  0.00309824 -0.10274257\n",
        "  0.03443688 -0.01339695  0.03209495 -0.03476787]\n",
        "Solve    [ 2.56966826  2.13754943 -1.42671235  1.60313975  0.14487334 -4.80415132\n",
        "  1.61023634 -0.62643107  1.50072979 -1.62571689]\n",
        "v        [ 0.37578895  0.31259549 -0.20864271  0.23444322  0.02118609 -0.70255973\n",
        "  0.23548136 -0.09160943  0.21946712 -0.23774507] 6.83806053746\n",
        "23\n"
       ]
      }
     ],
     "prompt_number": 9
    },
    {
     "cell_type": "code",
     "collapsed": false,
     "input": [
      "# (A - zI)^{-1} . v = l v <=> v * (1/l) = (A - zI)v <=> Av = (z + 1/l)v\n",
      "diff = dot(A,v) - (z + 1/l)*v\n",
      "print('Norma 2: {}, Norma 1: {}'.format(norm(diff), norm(diff,ord=1)))"
     ],
     "language": "python",
     "metadata": {},
     "outputs": [
      {
       "output_type": "stream",
       "stream": "stdout",
       "text": [
        "Norma 2: 7.613967791207475e-08, Norma 1: 2.009182376045554e-07\n"
       ]
      }
     ],
     "prompt_number": 10
    },
    {
     "cell_type": "markdown",
     "metadata": {},
     "source": [
      "# Calculando todos os autovalores e autovetores"
     ]
    },
    {
     "cell_type": "markdown",
     "metadata": {},
     "source": [
      "Pode ser que seja necess\u00e1rio conhecer todos os autovalores e autovetores de uma matriz.\n",
      "Neste caso, uma solu\u00e7\u00e3o (al\u00e9m de calcular todas as ra\u00edzes do polin\u00f4mio caracter\u00edstico de $A$)\n",
      "\u00e9 criar uma s\u00e9rie de transforma\u00e7\u00f5es de $A$ que **preservam** os autovalores.\n",
      "Da mesma forma como transformamos $A = PLU$ atrav\u00e9s de opera\u00e7\u00f5es de linhas\n",
      "(e poder\u00edamos ter feito colunas tamb\u00e9m),\n",
      "outras opera\u00e7\u00f5es levam a matrizes com mesmos autovalores,\n",
      "como \u00e9 o caso de _similitudes_:\n",
      "dizemos que $A$ \u00e9 similar a $B$ se existe uma matriz $P$ tal que\n",
      "$A = P^{-1} B P$.\n",
      "Se $Av = \\lambda v$, ent\u00e3o\n",
      "$$ P^{-1} B P v = \\lambda v \\Leftrightarrow B (Pv) = \\lambda (Pv) $$\n",
      "o que mostra que $Pv$ \u00e9 um autovetor de $B$ com o mesmo autovalor.\n",
      "\n",
      "Assim, buscamos uma seq\u00fc\u00eancia de transforma\u00e7\u00f5es que sejam similitudes."
     ]
    },
    {
     "cell_type": "markdown",
     "metadata": {},
     "source": [
      "## Fatora\u00e7\u00e3o QR e similitudes\n",
      "\n",
      "Uma das maneiras mais curiosas de obter estas similitudes \u00e9 a fatora\u00e7\u00e3o QR:\n",
      "ela \u00e9 bastante similar \u00e0 fatora\u00e7\u00e3o LU: ainda h\u00e1 um bloco triangular superior, que agora chamamos $R$,\n",
      "mas $Q$ \u00e9 uma matriz mais especial: \u00e9 uma matriz ortogonal,\n",
      "ou seja, suas colunas (e linhas) s\u00e3o ortogonais entre si e de norma 1.\n",
      "Isso (como j\u00e1 vimos na diagonaliza\u00e7\u00e3o) \u00e9 muito \u00fatil para calcular inversas!\n",
      "\n",
      "Assim, se temos $A = QR$, tamb\u00e9m \u00e9 verdade que $Q^{-1}A = Q^T A = R$\n",
      "e portanto a matriz $B = RQ$ \u00e9 igual a $Q^{-1} A Q$, ou seja, $B$ \u00e9 similar a $A$.\n",
      "Tamb\u00e9m $A$ \u00e9 similar a $B$, j\u00e1 que $A = Q B Q^{-1}$.\n",
      "\n",
      "Vamos continuar: fatoramos $B$ novamente em $Q_2 R_2$, e permutamos,\n",
      "obtendo $C = R_2 Q_2$.\n",
      "Isso d\u00e1 $B = Q_2 R_2 Q_2^{-1}$, e portanto\n",
      "$A = Q Q_2 R_2 Q_2^{-1} Q^{-1}$.\n",
      "\n",
      "Da mesma forma que iteramos a aplica\u00e7\u00e3o da matriz $A$ em um vetor $u$,\n",
      "podemos ver a repeti\u00e7\u00e3o desta \"troca de lados\" entre $Q$s e $R$s sucessivos como uma aplica\u00e7\u00e3o de $A$\n",
      "aos vetores de $Q$ (que s\u00e3o ortogonais entre si, como uma base de autovetores de $A$ deve ser, se $A$ \u00e9 sim\u00e9trica).\n",
      "\n",
      "Quando $A$ \u00e9 sim\u00e9trica, isso funciona exatamente assim:\n",
      "os vetores dos produtos das $Q$s convergem para autovetores de $A$,\n",
      "e a seq\u00fc\u00eancia $A$, $B$, $C$, $\\ldots$ converge para uma matriz diagnoal,\n",
      "formada pelos autovalores de $A$ (que tamb\u00e9m s\u00e3o de $B$, $C$, etc.)."
     ]
    },
    {
     "cell_type": "code",
     "collapsed": false,
     "input": [
      "def qrsequence(A, tol=1e-6, nmax=100):\n",
      "    q, r = qr(A)\n",
      "    B = dot(r,q)\n",
      "    prodq = q\n",
      "    while rms_flat(B - A) > tol:\n",
      "        A = B\n",
      "        q, r = qr(A)\n",
      "        B = dot(r,q)\n",
      "        prodq = dot(prodq,q)\n",
      "    return B, prodq"
     ],
     "language": "python",
     "metadata": {},
     "outputs": [],
     "prompt_number": 12
    },
    {
     "cell_type": "code",
     "collapsed": false,
     "input": [
      "A = array([[1,2,3], [3,4,3], [7,6,5]])\n",
      "Rlim, Qlim = qrsequence(A)\n",
      "print(Qlim)\n",
      "print(Rlim)"
     ],
     "language": "python",
     "metadata": {},
     "outputs": [
      {
       "output_type": "stream",
       "stream": "stdout",
       "text": [
        "[[ 0.33003053  0.87442266 -0.35561899]\n",
        " [ 0.47210896  0.17332876  0.86433227]\n",
        " [ 0.81743072 -0.45314695 -0.35561899]]\n",
        "[[ 11.29150262   4.87980503   1.47680597]\n",
        " [  0.          -2.           0.08091354]\n",
        " [  0.           0.           0.70849738]]\n"
       ]
      }
     ],
     "prompt_number": 13
    },
    {
     "cell_type": "code",
     "collapsed": false,
     "input": [
      "dot(Qlim,dot(Rlim,Qlim.T))"
     ],
     "language": "python",
     "metadata": {},
     "outputs": [
      {
       "metadata": {},
       "output_type": "pyout",
       "prompt_number": 14,
       "text": [
        "array([[ 1.,  2.,  3.],\n",
        "       [ 3.,  4.,  3.],\n",
        "       [ 7.,  6.,  5.]])"
       ]
      }
     ],
     "prompt_number": 14
    },
    {
     "cell_type": "code",
     "collapsed": false,
     "input": [
      "Qlim.T[0]"
     ],
     "language": "python",
     "metadata": {},
     "outputs": [
      {
       "metadata": {},
       "output_type": "pyout",
       "prompt_number": 15,
       "text": [
        "array([ 0.33003053,  0.47210896,  0.81743072])"
       ]
      }
     ],
     "prompt_number": 15
    },
    {
     "cell_type": "code",
     "collapsed": false,
     "input": [
      "dot(A, Out[15])"
     ],
     "language": "python",
     "metadata": {},
     "outputs": [
      {
       "metadata": {},
       "output_type": "pyout",
       "prompt_number": 16,
       "text": [
        "array([ 3.72654061,  5.33081959,  9.23002108])"
       ]
      }
     ],
     "prompt_number": 16
    },
    {
     "cell_type": "code",
     "collapsed": false,
     "input": [
      "Out[15]*Rlim[0][0]"
     ],
     "language": "python",
     "metadata": {},
     "outputs": [
      {
       "metadata": {},
       "output_type": "pyout",
       "prompt_number": 17,
       "text": [
        "array([ 3.72654061,  5.33081959,  9.23002108])"
       ]
      }
     ],
     "prompt_number": 17
    },
    {
     "cell_type": "markdown",
     "metadata": {},
     "source": [
      "# Fatora\u00e7\u00e3o / Decomposi\u00e7\u00e3o SVD\n",
      "\n",
      "SVD (_Singular Value Decomposition_) \u00e9 uma outra fatora\u00e7\u00e3o de matrizes,\n",
      "mais geral do que a diagonaliza\u00e7\u00e3o, e que serve tamb\u00e9m para matrizes retangulares.\n",
      "Essencialmente, ela consiste em encontrar **duas** bases\n",
      "(em vez de apenas uma que \u00e9 o caso de autovetores da diagonaliza\u00e7\u00e3o)\n",
      "que sejam adaptadas \u00e0 matriz $A$.\n",
      "Assim, queremos escrever\n",
      "$$ A = U \\Sigma V^{-1} , $$\n",
      "onde $U$ e $V$ s\u00e3o ortogonais (correspondendo a mudan\u00e7as de base \"por rota\u00e7\u00e3o\")\n",
      "e $\\Sigma$ \u00e9 uma matriz diagonal (correspondendo a multiplica\u00e7\u00f5es entre as bases).\n",
      "\n",
      "Neste caso, a id\u00e9ia \u00e9 usar uma matriz sim\u00e9trica\n",
      "(para a qual sabemos existir a diagonaliza\u00e7\u00e3o e bases \"apropriadas\")\n",
      "associada a $A$: $A^T A$.\n",
      "Parece apela\u00e7\u00e3o, mas ao supor a decomposi\u00e7\u00e3o $A = U \\Sigma V^{-1}$,\n",
      "com matrizes ortogonais $U$ e $V$, temos\n",
      "$$ A^T A = {V^{-1}}^T \\Sigma^T U^T U \\Sigma V^{-1} = V \\Sigma^T \\Sigma V^{-1} $$\n",
      "que \u00e9 **a diagonaliza\u00e7\u00e3o** de $A^T A$, se tomarmos $\\Sigma^T \\Sigma = D$.\n",
      "\n",
      "Assim, podemos obter uma base de \"vetores especiais\" a partir de $V$,\n",
      "e em seguida tomamos uma matriz diagonal $\\Sigma$ tal que $\\Sigma^T \\Sigma = D$;\n",
      "o mais simples \u00e9 usar a raiz quadrada dos elementos diagonais de $D$\n",
      "(que s\u00e3o positivos porque $A^T A$ \u00e9 sim\u00e9trica!).\n",
      "Enfim, para obter $U$, basta resolver o sistema $A = U \\Sigma V^{-1}$,\n",
      "que \u00e9 linear em $U$."
     ]
    },
    {
     "cell_type": "markdown",
     "metadata": {},
     "source": [
      "### Exerc\u00edcio\n",
      "\n",
      "Escreva um c\u00f3digo para a decomposi\u00e7\u00e3o SVD.\n",
      "Para diagonalizar $A^T A$, voc\u00ea pode usar o c\u00e1lculo de autovalores e autovetores da itera\u00e7\u00e3o QR."
     ]
    },
    {
     "cell_type": "code",
     "collapsed": false,
     "input": [
      "def svd(A):\n",
      "    pass"
     ],
     "language": "python",
     "metadata": {},
     "outputs": [],
     "prompt_number": 20
    }
   ],
   "metadata": {}
  }
 ]
}