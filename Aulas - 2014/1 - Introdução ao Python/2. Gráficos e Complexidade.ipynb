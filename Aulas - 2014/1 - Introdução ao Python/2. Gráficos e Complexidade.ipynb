{
 "cells": [
  {
   "cell_type": "markdown",
   "metadata": {},
   "source": [
    "Plano de hoje\n",
    "-------------\n",
    "\n",
    "1. Ambiente de programação\n",
    "    1. . . .\n",
    "    6. **MatPlotLib: gráficos**\n",
    "\n",
    "2. Usando o computador para calcular    \n",
    "    1. Indução e algoritmos recursivos\n",
    "    1. **Aproximações sucessivas: bisseção, Newton**"
   ]
  },
  {
   "cell_type": "markdown",
   "metadata": {},
   "source": [
    "<markdowncell>\n",
    "\n",
    "# Rodar, desenhar, entender\n",
    "\n",
    "## `Plot` = Sobrevivência na selva\n",
    "\n",
    "O comando mais importante é, sem dúvida, `plot`.\n",
    "Ele tem diversas opções (veja a ajuda correspondente), mas em geral as configurações-padrão são bastante razoáveis.\n",
    "Vejamos alguns exemplos."
   ]
  },
  {
   "cell_type": "code",
   "execution_count": null,
   "metadata": {},
   "outputs": [],
   "source": [
    "# Plotar uma lista, usando o índice como coordenada $x$\n",
    "\n",
    "lista_random = rand(55)\n",
    "plot(lista_random);\n",
    "\n",
    "# <codecell>"
   ]
  },
  {
   "cell_type": "code",
   "execution_count": null,
   "metadata": {},
   "outputs": [],
   "source": [
    "# A segunda forma mais útil é plotar uma função.\n",
    "x = range(100)\n",
    "y = sin(x)\n",
    "plot(x, y);"
   ]
  },
  {
   "cell_type": "code",
   "execution_count": null,
   "metadata": {},
   "outputs": [],
   "source": [
    "# A terceira, variação da anterior, é uma curva paramétrica\n",
    "t = arange(0,10,0.1)\n",
    "xt = t**2 * sin(t)\n",
    "yt = t*cos(t)\n",
    "plot(xt,yt);"
   ]
  },
  {
   "cell_type": "markdown",
   "metadata": {},
   "source": [
    "Neste exemplo, usamos `arange`, que é uma função do _NumPy_, que retorna um \"vetor numérico\".\n",
    "A grande vantagem destes vetores com relação às listas é que é possível fazer operações numéricas (coordenada-a-coordenada)\n",
    "com mais facilidade e clareza do que com uma lista \"normal\" do Python.\n",
    "Isso será bastante útil durante o curso, seja para gerar dados, seja para escrever programas mais simples.\n",
    "\n",
    "E a `matplotlib` usa vetores do NumPy automaticamente."
   ]
  },
  {
   "cell_type": "markdown",
   "metadata": {},
   "source": [
    "\n",
    "## Algumas opções de argumentos de `plot`\n",
    "\n"
   ]
  },
  {
   "cell_type": "code",
   "execution_count": null,
   "metadata": {},
   "outputs": [],
   "source": [
    "# Mudando a \"linha\"\n",
    "plot(lista_random, 'rx');"
   ]
  },
  {
   "cell_type": "code",
   "execution_count": null,
   "metadata": {},
   "outputs": [],
   "source": [
    "# Pode haver linhas _E_ marcadores num mesmo gráfico.\n",
    "# Isso pode ser feito com um comando\n",
    "plot(xt, yt, 'go-')\n",
    "\n",
    "# Ou com argumentos, onde podemos ter mais variação ainda (mas não exagere!)\n",
    "figure()\n",
    "plot(xt, yt, color='green', linestyle='dashed', marker='o', markerfacecolor='red', markersize=4);\n"
   ]
  },
  {
   "cell_type": "markdown",
   "metadata": {},
   "source": [
    "\n",
    "## Outros gráficos úteis\n",
    "\n",
    "- `semilogx`, `semilogy`, `loglog`: escalas logarítmicas\n",
    "- `matshow` para \"plotar\" dados em função de duas variáveis (uma matriz)\n",
    "- `plot_surface` para fazer o gráfico de uma superfície dependendo de 2 variáveis (uma matriz, ou três matrizes como argumento)\n",
    "- `subplot` para fazer gráficos lado a lado"
   ]
  },
  {
   "cell_type": "markdown",
   "metadata": {},
   "source": [
    "\n",
    "## Informação ao leitor\n",
    "- `legend` para dar nomes às curvas (se houver mais de uma)\n",
    "- `ylabel` e `xlabel` para dar nome aos eixos"
   ]
  },
  {
   "cell_type": "code",
   "execution_count": null,
   "metadata": {},
   "outputs": [],
   "source": [
    "subplot(211)\n",
    "plot(t, t*t, 'ro', label='square')\n",
    "plot(t, t*t*t, 'g-.', label='cube')\n",
    "legend()\n",
    "\n",
    "subplot(212)\n",
    "plot(t*t, t, 'bD', label='inversa da square')\n",
    "plot(t*t*t, t, 'c*', label='inversa da cube')\n",
    "legend(loc=0);"
   ]
  },
  {
   "cell_type": "markdown",
   "metadata": {},
   "source": [
    "### Exercício resolvido:\n",
    "Fazer um gráfico com os dois pontos extremos dos intervalos do método da bisseção."
   ]
  },
  {
   "cell_type": "code",
   "execution_count": null,
   "metadata": {},
   "outputs": [],
   "source": [
    "def bissecao(f, a, b):\n",
    "    assert(f(a) * f(b) <= 0)\n",
    "    esq = []\n",
    "    dire = []\n",
    "    \n",
    "    def dividir(x,y):\n",
    "        esq.append(x)\n",
    "        dire.append(y)\n",
    "        z = (x+y)/2\n",
    "        if (z == x) or (z == y):\n",
    "            fx = f(x)\n",
    "            fy = f(y)\n",
    "            if (abs(fx) <= abs(fy)):\n",
    "                return x\n",
    "            else:\n",
    "                return y\n",
    "\n",
    "        if (f(x)*f(z) <= 0):\n",
    "            return dividir(x,z)\n",
    "        else:\n",
    "            return dividir(z,y)\n",
    "\n",
    "    return esq, dire, dividir(a,b)"
   ]
  },
  {
   "cell_type": "code",
   "execution_count": null,
   "metadata": {},
   "outputs": [],
   "source": [
    "def bissecao_dados(f,a,b):\n",
    "    esquerda = [a]\n",
    "    direita  = [b]\n",
    "    \n",
    "    z = (a/2 + b/2)\n",
    "    fa = f(a)\n",
    "    fb = f(b)\n",
    "    while (z != a and z != b):\n",
    "        fz = f(z)\n",
    "        if (fz * fa <= 0):\n",
    "            esquerda.append(a)\n",
    "            direita.append(z)\n",
    "            b = z\n",
    "            fb = fz\n",
    "        else:\n",
    "            esquerda.append(z)\n",
    "            direita.append(b)\n",
    "            a = z\n",
    "            fa = fz\n",
    "        z = (a/2 + b/2)\n",
    "        \n",
    "    return (z, esquerda, direita)"
   ]
  },
  {
   "cell_type": "code",
   "execution_count": null,
   "metadata": {},
   "outputs": [],
   "source": [
    "def plot_bissecao(z, esquerda, direita):\n",
    "    esquerda = array(esquerda)\n",
    "    direita = array(direita)\n",
    "    plot(esquerda, label='liminf')\n",
    "    plot(direita, label='limsup')\n",
    "    legend()\n",
    "    figure()\n",
    "    subplot(121)\n",
    "    semilogy(direita - esquerda)\n",
    "    subplot(122)\n",
    "    semilogy(direita - z)\n",
    "    semilogy(z - esquerda)"
   ]
  },
  {
   "cell_type": "code",
   "execution_count": null,
   "metadata": {},
   "outputs": [],
   "source": [
    "f = cos\n",
    "a = 0.\n",
    "b = 3.\n",
    "\n",
    "z, esq, dire = bissecao_dados(f, a, b)\n",
    "print(\"Uma raiz de f entre {} e {} é {}.\".format(a, b, z))\n",
    "plot_bissecao(z, esq, dire)"
   ]
  },
  {
   "cell_type": "markdown",
   "metadata": {},
   "source": [
    "\n",
    "\n",
    "# Tudo isso (e muito, muito mais) em http://matplotlib.org/users/ (página oficial da documentação),\n",
    "http://matplotlib.org/users/beginner.html (guia para \"iniciantes\", tem bastante coisa), http://matplotlib.org/faq/howto_faq.html#plotting-howto (várias dicas, com exemplos, para fazer coisas mais ou menos avançadas)\n",
    "\n"
   ]
  },
  {
   "cell_type": "markdown",
   "metadata": {},
   "source": [
    "# Complexidade, exemplos\n",
    "\n",
    "Lembremos da função fatorial"
   ]
  },
  {
   "cell_type": "code",
   "execution_count": null,
   "metadata": {},
   "outputs": [],
   "source": [
    "def fatorial(n):\n",
    "    assert (isinstance(n, int))\n",
    "    assert (n >= 0)\n",
    "    \n",
    "    p = 1\n",
    "    while(n > 1):\n",
    "        p *= n\n",
    "        n -= 1\n",
    "\n",
    "    return p"
   ]
  },
  {
   "cell_type": "markdown",
   "metadata": {},
   "source": [
    "<markdowncell>\n",
    "\n",
    "Vejamos quanto tempo leva para calcular alguns fatoriais.\n",
    "Para isso, utilisamos o módulo `timeit`."
   ]
  },
  {
   "cell_type": "code",
   "execution_count": null,
   "metadata": {},
   "outputs": [],
   "source": [
    "import timeit"
   ]
  },
  {
   "cell_type": "code",
   "execution_count": null,
   "metadata": {},
   "outputs": [],
   "source": [
    "# No ipython, temos o %timeit, um \"comando mágico\":\n",
    "%timeit(fatorial(10))\n",
    "%timeit(fatorial(100))\n",
    "%timeit(fatorial(1000))\n",
    "%timeit(fatorial(10000))"
   ]
  },
  {
   "cell_type": "code",
   "execution_count": null,
   "metadata": {},
   "outputs": [],
   "source": [
    "# Senão, podemos usar o comando Python \"puro\"\n",
    "timeit.timeit(number=100, setup=\"from __main__ import fatorial\", stmt=\"x = fatorial(1000)\")"
   ]
  },
  {
   "cell_type": "markdown",
   "metadata": {},
   "source": [
    "## Dois códigos, duas performances"
   ]
  },
  {
   "cell_type": "code",
   "execution_count": null,
   "metadata": {},
   "outputs": [],
   "source": [
    "def binom(n,k):\n",
    "    assert(isinstance(n,int) and isinstance(k,int))\n",
    "    assert(0 <= n and 0 <= k and k <= n)\n",
    "    \n",
    "    i = 0\n",
    "    p = 1\n",
    "    while(i < k):\n",
    "        p = (p * (n-i))/(i+1)\n",
    "        i += 1\n",
    "    return p"
   ]
  },
  {
   "cell_type": "code",
   "execution_count": null,
   "metadata": {},
   "outputs": [],
   "source": [
    "def slow_binom(n,k):\n",
    "    assert(isinstance(n,int) and isinstance(k,int))\n",
    "    assert(0 <= n and 0 <= k and k <= n)\n",
    "    \n",
    "    return fatorial(n)/fatorial(k)/fatorial(n-k)"
   ]
  },
  {
   "cell_type": "code",
   "execution_count": null,
   "metadata": {},
   "outputs": [],
   "source": [
    "print(\"20 escolhe 10\")\n",
    "%timeit(binom(20,10))\n",
    "%timeit(slow_binom(20,10))\n",
    "\n",
    "print(\"200 escolhe 10\")\n",
    "%timeit(binom(200,10))\n",
    "%timeit(slow_binom(200,10))\n",
    "\n",
    "print(\"200 escolhe 100\")\n",
    "%timeit(binom(200,100))\n",
    "%timeit(slow_binom(200,100))"
   ]
  },
  {
   "cell_type": "code",
   "execution_count": null,
   "metadata": {},
   "outputs": [],
   "source": [
    "print(\"Rápida\")\n",
    "%timeit(binom(20,10))\n",
    "%timeit(binom(200,10))\n",
    "%timeit(binom(2000,10))\n",
    "%timeit(binom(20000,10))\n",
    "\n",
    "print(\"\\nDevagar\")\n",
    "%timeit(slow_binom(20,10))\n",
    "%timeit(slow_binom(200,10))\n",
    "%timeit(slow_binom(2000,10))\n",
    "%timeit(slow_binom(20000,10))"
   ]
  }
 ],
 "metadata": {
  "kernelspec": {
   "display_name": "Python 3",
   "language": "python",
   "name": "python3"
  },
  "language_info": {
   "codemirror_mode": {
    "name": "ipython",
    "version": 3
   },
   "file_extension": ".py",
   "mimetype": "text/x-python",
   "name": "python",
   "nbconvert_exporter": "python",
   "pygments_lexer": "ipython3",
   "version": "3.7.5"
  }
 },
 "nbformat": 4,
 "nbformat_minor": 2
}
