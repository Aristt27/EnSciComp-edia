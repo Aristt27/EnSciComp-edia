{
 "metadata": {
  "name": "Aula3",
  "signature": "sha256:55fc1a38bb54f0c90142dfbd8efe4c7bfc17fa41d90d8904aac6c7a18f4ecbe3"
 },
 "nbformat": 3,
 "nbformat_minor": 0,
 "worksheets": [
  {
   "cells": [
    {
     "cell_type": "markdown",
     "metadata": {},
     "source": [
      "Plano de hoje\n",
      "-------------\n",
      "\n",
      "1. Ambiente de programa\u00e7\u00e3o\n",
      "2. Usando o computador para calcular    \n",
      "    1. **Indu\u00e7\u00e3o e algoritmos recursivos: fatoriais, binomiais, Fibonacci, Han\u00f3i**\n",
      "    1. **Aproxima\u00e7\u00f5es sucessivas: bisse\u00e7\u00e3o, Newton**"
     ]
    },
    {
     "cell_type": "markdown",
     "metadata": {},
     "source": [
      "# Fun\u00e7\u00f5es recursivas\n",
      "\n",
      "J\u00e1 vimos a id\u00e9ia que fun\u00e7\u00f5es podem chamar outras fun\u00e7\u00f5es em uma \"torre\".\n",
      "Uma das possibilidades que isto nos d\u00e1 \u00e9 que fun\u00e7\u00f5es chamem a si mesmas, sendo _recursivas_.\n",
      "Isso \u00e9 muito importante porque v\u00e1rios problemas possuem uma solu\u00e7\u00e3o naturalmente recursiva.\n",
      "Em geral, isto se deve a uma dentre as seguintes raz\u00f5es:\n",
      "\n",
      "- A defini\u00e7\u00e3o do problema \u00e9 recursiva (fatorial, Fibonacci)\n",
      "- Os dados manipulados pela fun\u00e7\u00e3o s\u00e3o recursivos (listas, \u00e1rvores, n\u00fameros inteiros).\n",
      "- O problema pode ser separado em subproblemas similares (Han\u00f3i)\n",
      "- O problema pode ser formulado em uma _seq\u00fc\u00eancia de aproxima\u00e7\u00f5es_ da solu\u00e7\u00e3o real.\n",
      "\n",
      "Este \u00faltimo \u00e9 especialmente interessante para n\u00f3s.\n",
      "Vejamos como ele se comporta no caso da aula passada do _pr\u00f3ximo n\u00famero real_:"
     ]
    },
    {
     "cell_type": "code",
     "collapsed": false,
     "input": [
      "def prox_real(x):\n",
      "    assert (x > 0)\n",
      "    def dividir(x,y):\n",
      "        z = (x+y)/2\n",
      "        if (z == x) or (z == y):\n",
      "            return y\n",
      "        else:\n",
      "            return dividir(x,z)\n",
      "    return dividir(x, 2*x)"
     ],
     "language": "python",
     "metadata": {},
     "outputs": [],
     "prompt_number": 2
    },
    {
     "cell_type": "markdown",
     "metadata": {},
     "source": [
      "Vejamos agora um outro exemplo, cl\u00e1ssico: os fatoriais.\n",
      "Lembramos que o fatorial de um n\u00famero inteiro $n$ \u00e9 dado por:\n",
      "$$ n! = \\cases {1 & se $n = 0$\\\\ n \\cdot (n-1)! & se $n > 0$} $$\n",
      "\n",
      "**Exerc\u00edcio**: implemente a fun\u00e7\u00e3o fatorial usando um algoritmo recursivo.\n",
      "A fun\u00e7\u00e3o `isinstance` diz se um argumento pertence a uma certa classe."
     ]
    },
    {
     "cell_type": "code",
     "collapsed": false,
     "input": [],
     "language": "python",
     "metadata": {},
     "outputs": []
    },
    {
     "cell_type": "markdown",
     "metadata": {},
     "source": [
      "Fun\u00e7\u00f5es com mais de um argumento tamb\u00e9m podem ser usadas em recorr\u00eancias,\n",
      "mas estabelecer qual ser\u00e1 esta recorr\u00eancia pode ser mais dif\u00edcil.\n",
      "\n",
      "**Exerc\u00edcio**: implemente uma fun\u00e7\u00e3o que calcule n\u00fameros binomiais usando recorr\u00eancia (e n\u00e3o os fatoriais)."
     ]
    },
    {
     "cell_type": "code",
     "collapsed": false,
     "input": [],
     "language": "python",
     "metadata": {},
     "outputs": []
    },
    {
     "cell_type": "markdown",
     "metadata": {},
     "source": [
      "## O m\u00e9todo da bisse\u00e7\u00e3o\n",
      "\n",
      "O m\u00e9todo da bisse\u00e7\u00e3o (bi = dois, se\u00e7\u00e3o = cortar) consiste em cortar um intervalo em dois a cada passo do programa.\n",
      "J\u00e1 encontramos esta id\u00e9ia no caso do \"pr\u00f3ximo n\u00famero real\",\n",
      "mas ela \u00e9 realmente \u00fatil para calcular zeros de fun\u00e7\u00f5es.\n",
      "Se $f$ \u00e9 uma _fun\u00e7\u00e3o cont\u00ednua_ de $R$ em $R$, e que muda de sinal entre os pontos $a$ e $b$,\n",
      "ent\u00e3o (pelo **Teorema do valor intermedi\u00e1rio**) existe uma raiz de $f$ entre $a$ e $b$."
     ]
    },
    {
     "cell_type": "code",
     "collapsed": false,
     "input": [
      "def bissecao(f, a, b):\n",
      "    assert(f(a) * f(b) <= 0)\n",
      "    \n",
      "    def dividir(x,y):\n",
      "        z = (x+y)/2\n",
      "        if (z == x) or (z == y):\n",
      "            fx = f(x)\n",
      "            fy = f(y)\n",
      "            if (abs(fx) <= abs(fy)):\n",
      "                return x\n",
      "            else:\n",
      "                return y\n",
      "\n",
      "        if (f(x)*f(z) <= 0):\n",
      "            return dividir(x,z)\n",
      "        else:\n",
      "            return dividir(z,y)\n",
      "\n",
      "    return dividir(a,b)"
     ],
     "language": "python",
     "metadata": {},
     "outputs": [],
     "prompt_number": 3
    },
    {
     "cell_type": "markdown",
     "metadata": {},
     "source": [
      "Esta fun\u00e7\u00e3o vai at\u00e9 o mais preciso poss\u00edvel que o seu computador consegue para a fun\u00e7\u00e3o.\n",
      "Isto pode parecer bom, mas nem sempre \u00e9 a melhor solu\u00e7\u00e3o poss\u00edvel.\n",
      "\n",
      "**Exerc\u00edcio**: adicione um argumento extra, `tol` (toler\u00e2ncia) para achar uma solu\u00e7\u00e3o a menos de `tol` do valor real."
     ]
    },
    {
     "cell_type": "code",
     "collapsed": false,
     "input": [
      "def bissecao(f, a, b, tol):\n",
      "    pass"
     ],
     "language": "python",
     "metadata": {},
     "outputs": [],
     "prompt_number": 4
    },
    {
     "cell_type": "markdown",
     "metadata": {},
     "source": [
      "Poder\u00edamos ter definido esta fun\u00e7ao como `bissecao(f, a, b, tol=1e-6)`.\n",
      "Isso cria `tol` como um _argumento opcional_ com um _valor padr\u00e3o_ de `1e-6`.\n",
      "Assim, ao chamar a fun\u00e7\u00e3o simplesmente como `bissecao(f, -2., 3.)`,\n",
      "o Python entende que o argumento `tol` ser\u00e1 usado com o seu valor padr\u00e3o.\n",
      "Esta t\u00e9cnica \u00e9 muito \u00fatil para apresentar uma interface\n",
      "\n",
      "- \"simples\", onde o usu\u00e1rio usa apenas os argumentos obrigat\u00f3rios,\n",
      "\n",
      "e uma interface\n",
      "\n",
      "- \"expert\", atrav\u00e9s da qual o usu\u00e1rio pode ter um melhor controle do programa, quando este for necess\u00e1rio"
     ]
    },
    {
     "cell_type": "markdown",
     "metadata": {},
     "source": [
      "## Fibonacci e performance\n",
      "\n",
      "Os n\u00fameros de Fibonacci s\u00e3o definidos por uma recorr\u00eancia:\n",
      "\\begin{align} & F_0 = F_1 = 1 \\\\ & F_{n+2} = F_{n+1} + F_n \\end{align}\n",
      "\n",
      "**Exerc\u00edcio**: Implemente uma fun\u00e7\u00e3o recursiva que calcule n\u00fameros de Fibonacci."
     ]
    },
    {
     "cell_type": "code",
     "collapsed": false,
     "input": [],
     "language": "python",
     "metadata": {},
     "outputs": []
    },
    {
     "cell_type": "markdown",
     "metadata": {},
     "source": [
      "Esta fun\u00e7\u00e3o pode ficar muito lenta j\u00e1 para argumentos relativamente pequenos (n = 100).\n",
      "O problema \u00e9 que esta fun\u00e7\u00e3o calcular\u00e1 $F_{100}$ ao somar tantos `1`s quanto necess\u00e1rio.\n",
      "Como $F_{100}$ j\u00e1 \u00e9 bastante grande, isso implica em muitos `1`s, e logo muitas contas.\n",
      "Isso ocorre porque, ao expandir a recorr\u00eancia, calculamos v\u00e1rias vezes o mesmo $F_k$.\n",
      "\n",
      "Uma solu\u00e7\u00e3o para isto \u00e9 calcular os n\u00fameros de Fibonacci **ao contr\u00e1rio**,\n",
      "_subindo_ a recorr\u00eancia em vez de descer.\n",
      "\n",
      "**Exerc\u00edcio**: implemente uma fun\u00e7\u00e3o (n\u00e3o necessariamente recursiva) que calcule os $F_k$ apenas uma vez."
     ]
    },
    {
     "cell_type": "code",
     "collapsed": false,
     "input": [],
     "language": "python",
     "metadata": {},
     "outputs": []
    },
    {
     "cell_type": "markdown",
     "metadata": {},
     "source": [
      "Existem outras formas de calcular os n\u00fameros de Fibonacci, de acordo com o objetivo (leia-se, _precis\u00e3o_),\n",
      "que s\u00e3o mais eficientes tanto em mem\u00f3ria quanto em tempo de processamento.\n",
      "Mas n\u00e3o vamos falar mais disso."
     ]
    },
    {
     "cell_type": "markdown",
     "metadata": {},
     "source": [
      "## O m\u00e9todo de Newton para calcular ra\u00edzes\n",
      "\n",
      "O m\u00e9todo da bisse\u00e7\u00e3o \u00e9 bastante geral (funciona para qualquer fun\u00e7\u00e3o cont\u00ednua!),\n",
      "e converge \"geom\u00e9tricamente r\u00e1pido\": o erro na etapa $n+1$ ser\u00e1, aproximadamente,\n",
      "a metade do erro da etapa anterior.\n",
      "\n",
      "Para fun\u00e7\u00f5es cuja derivada \u00e9 conhecida, entretanto,\n",
      "o _m\u00e9todo de Newton_ \u00e9 uma alternativa muito poderosa,\n",
      "pois converge com maior velocidade.\n",
      "Al\u00e9m disso, ele dispensa conhecer dois pontos onde o sinal da fun\u00e7\u00e3o seja diferente.\n",
      "Vejamos como ele funciona."
     ]
    },
    {
     "cell_type": "markdown",
     "metadata": {},
     "source": [
      "### Id\u00e9ia geom\u00e9trica\n",
      "\n",
      "Dado um ponto $(x,f(x))$ no gr\u00e1fico de $f$, se tra\u00e7armos a tangente,\n",
      "esta ser\u00e1 uma boa aproxima\u00e7\u00e3o da fun\u00e7\u00e3o \"perto\" de $x$.\n",
      "Assim, seguimos esta reta tangente at\u00e9 que ela encontre o eixo-$x$ no ponto $(z,0)$,\n",
      "esperando que esta interse\u00e7\u00e3o esteja pr\u00f3xima da verdadeira raiz,\n",
      "que \u00e9 a interse\u00e7\u00e3o da _curva_ descrita por $f$ e o eixo-$x$.\n",
      "\n",
      "Em f\u00f3rmulas, temos:\n",
      "$$ (z,0) \\in T = \\big\\{ (x, f(x)) + t (1, f'(x)) \\mid t \\in R \\big\\} $$\n",
      "para o ponto $(z,0)$ que est\u00e1 na reta tangente $T$ e tamb\u00e9m no eixo-$x$\n",
      "(pois sua coordenada $y = 0$).\n",
      "Resolvendo o sistema, encontramos\n",
      "$$ z = x - \\frac{f(x)}{f'(x)}. $$"
     ]
    },
    {
     "cell_type": "markdown",
     "metadata": {},
     "source": [
      "A presen\u00e7a de $f'(x)$ no denominador mostra que este m\u00e9todo funciona **mal**\n",
      "quando est\u00e1 pr\u00f3ximo de uma raiz de $f'$.\n",
      "Al\u00e9m disso, o m\u00e9todo de Newton n\u00e3o fornece um \"intervalo de confian\u00e7a\" como no caso da bisse\u00e7\u00e3o.\n",
      "\n",
      "Assim, \u00e9 muito importante ter aqui um crit\u00e9rio de converg\u00eancia para poder parar as itera\u00e7\u00f5es.\n",
      "Em geral, este pode ser dado por tr\u00eas diferentes par\u00e2metros:\n",
      "\n",
      "- O n\u00famero de itera\u00e7\u00f5es feitas: se estamos calculando \"h\u00e1 muito tempo\", talvez o m\u00e9todo esteja \"perdido\"\n",
      "- A dist\u00e2ncia de $f(x)$ para zero: talvez j\u00e1 tenhamos calculado algo suficientemente pr\u00f3ximo de uma raiz,\n",
      "    se $\\lvert f(x)\\rvert << 1$\n",
      "- A dist\u00e2ncia de $x$ para um zero: se a diferen\u00e7a entre dois pontos sucessivos ($x$ e $z$ no nosso exemplo)\n",
      "    for pequena, ent\u00e3o \u00e9 _prov\u00e1vel_ que estejamos perto de uma raiz."
     ]
    },
    {
     "cell_type": "code",
     "collapsed": false,
     "input": [],
     "language": "python",
     "metadata": {},
     "outputs": []
    }
   ],
   "metadata": {}
  }
 ]
}