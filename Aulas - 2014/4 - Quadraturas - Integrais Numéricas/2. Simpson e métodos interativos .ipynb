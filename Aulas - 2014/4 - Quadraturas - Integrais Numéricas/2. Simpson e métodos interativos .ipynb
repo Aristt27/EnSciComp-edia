{
 "cells": [
  {
   "cell_type": "markdown",
   "metadata": {},
   "source": [
    "Plano de hoje\n",
    "-------------\n",
    "\n",
    "1. Ambiente de programação\n",
    "2. Usando o computador para calcular    \n",
    "3. Usando o computador para desenhar\n",
    "4. Usando o computador para integrar: quadraturas\n",
    "    1. Primeiras aproximações: Fórmula do ponto médio e dos trapézios (Seções 4.3.1 e 4.3.2)\n",
    "    2. Melhores aproximações: Fórmula de Simpson e métodos iterativos (Seções 4.3.3 e 4.5)"
   ]
  },
  {
   "cell_type": "markdown",
   "metadata": {},
   "source": [
    "# A fórmula de Simpson\n",
    "\n",
    "Em vez de usarmos uma aproximação \"de Riemann\" para a integral,\n",
    "vamos usar a idéia principal das outras demonstrações:\n",
    "queremos estimar com maior precisão as integrais\n",
    "$$ I _ {n,k} = \\int_{c_k}^{d_k = c_k + h} f(x)\\,dx. $$\n",
    "\n",
    "É claro (pense porquê!) que se só tivermos acesso a um ponto, o melhor que podemos fazer é usar o ponto médio $m_k = \\frac{c_k + d_k}{2}$.\n",
    "Se só tivermos dois pontos, a situação é mais complicada (...), usando $c_k$ e $d_k$ nem fica melhor do que apenas o ponto médio.\n",
    "Mas podemos combinar os pontos extremos $c_k$ e $d_k$ com o ponto médio, e ter 3 pontos.\n",
    "\n",
    "Com um pouco de trabalho, podemos mostrar que a combinação certa será:\n",
    "$$ I _ {n,k} \\sim \\frac{h}{6} \\big[ f(c_k) + 4 f(m_k) + f(d_k) \\big]. $$"
   ]
  },
  {
   "cell_type": "markdown",
   "metadata": {},
   "source": [
    "### Exercício\n",
    "\n",
    "Implemente a fórmula de Simpson (não esqueça que você tem que somar todas as aproximações dos $I _ {n,k}$!).\n",
    "Faça um gráfico do erro em função de $n$ (ou $h$)."
   ]
  },
  {
   "cell_type": "code",
   "execution_count": null,
   "metadata": {},
   "outputs": [],
   "source": []
  },
  {
   "cell_type": "markdown",
   "metadata": {},
   "source": [
    "### Exercício\n",
    "\n",
    "Suponha que $f$ é 4 vezes derivável, e calcule o erro de aproximação."
   ]
  },
  {
   "cell_type": "markdown",
   "metadata": {},
   "source": [
    "### Exercício\n",
    "\n",
    "É melhor usar a fórmula de Simpson com passo $0.1$ ou a fórmula do ponto médio com passo $0.05$? (Note que o passo foi escolhido de forma a que ambas calculem aproximadamente o mesmo número de termos de $f$.) E se fosse $0.01$ e $0.005$?"
   ]
  },
  {
   "cell_type": "markdown",
   "metadata": {},
   "source": [
    "# Fórmulas adaptativas\n",
    "\n",
    "O problema maior da integração é que, ao diminuir $h$, aumentamos o tempo de cálculo.\n",
    "O que gostaríamos de fazer é, então, poder variar $h$ ao longo do algoritmo,\n",
    "em função do intervalo que estejamos calculando.\n",
    "\n",
    "Ou seja, vamos ter que achar, dependendo da função, os valores de $h$ \"certos\".\n",
    "Mais ainda, gostaríamos que o método fosse \"de passo variável\":\n",
    "isso permite \"dar um zoom\" quando a função variar muito (segunda ou quarta derivada de $f$,\n",
    "dependendo de usar ponto médio ou Simpson)\n",
    "\n",
    "## Recursão, o retorno da vingança\n",
    "\n",
    "Uma solução para este problema é recursiva\n",
    "\n",
    "1. Tomamos um intervalo $I$ sobre o qual vamos calcular uma \"boa\" aproximação da integral\n",
    "2. Usamos alguma fórmula para calcular sua aproximação $A$\n",
    "3. Usamos outra fórmula, teóricamente mais precisa, para calcular uma segunda aproximação $A'$.\n",
    "4. Com $A$ e $A'$, podemos estimar o **erro** cometido pelas integrais\n",
    "    1. Se ambas aproximações estiverem próximas, o erro deve ser pequeno, e usamos $A'$.\n",
    "    2. Senão, dividimos o intervalo em duas partes (esquerda e direita, olhaí a bisseção) $I_e$ e $I_d$,\n",
    "       calculamos ambas as integrais com precisão suficiente, e usamos a soma."
   ]
  },
  {
   "cell_type": "code",
   "execution_count": 1,
   "metadata": {},
   "outputs": [],
   "source": [
    "def simpson_adaptativo(f, a,b, tol=1e-6):\n",
    "    h = (b-a)\n",
    "    m = a + h/2.\n",
    "\n",
    "    fa = f(a)\n",
    "    fb = f(b)\n",
    "    fm = f(m)\n",
    "    \n",
    "    # II e III\n",
    "    Igrossa = h*(fa + 4*fm + fb)/6\n",
    "    Ifina   = h*(fa + 4*f((a+m)/2) + 2*fm + 4*f((m+b)/2) + fb)/12\n",
    "    \n",
    "    # IV\n",
    "    if abs(Igrossa - Ifina) < tol: return Ifina\n",
    "    else:\n",
    "        esquerda = simpson_adaptativo(f, a,m, tol/2)\n",
    "        direita  = simpson_adaptativo(f, m,b, tol/2)\n",
    "        return esquerda+direita"
   ]
  },
  {
   "cell_type": "code",
   "execution_count": 2,
   "metadata": {},
   "outputs": [
    {
     "name": "stdout",
     "output_type": "stream",
     "text": [
      "Populating the interactive namespace from numpy and matplotlib\n"
     ]
    }
   ],
   "source": [
    "%pylab inline"
   ]
  },
  {
   "cell_type": "code",
   "execution_count": 3,
   "metadata": {},
   "outputs": [
    {
     "data": {
      "text/plain": [
       "1.8390715313050514"
      ]
     },
     "execution_count": 3,
     "metadata": {},
     "output_type": "execute_result"
    }
   ],
   "source": [
    "simpson_adaptativo(sin, 0,10)"
   ]
  },
  {
   "cell_type": "code",
   "execution_count": 4,
   "metadata": {},
   "outputs": [
    {
     "data": {
      "text/plain": [
       "1.8390715290764525"
      ]
     },
     "execution_count": 4,
     "metadata": {},
     "output_type": "execute_result"
    }
   ],
   "source": [
    "1 - cos(10)"
   ]
  },
  {
   "cell_type": "code",
   "execution_count": 5,
   "metadata": {},
   "outputs": [
    {
     "data": {
      "text/plain": [
       "-2.2285988610093455e-09"
      ]
     },
     "execution_count": 5,
     "metadata": {},
     "output_type": "execute_result"
    }
   ],
   "source": [
    "Out[4] - Out[3]"
   ]
  },
  {
   "cell_type": "code",
   "execution_count": 6,
   "metadata": {},
   "outputs": [],
   "source": [
    "def simpson_adaptativo(f, a,b, tol=1e-6):\n",
    "    def loop(a,b,m,fa,fb,fm,Icur,tol):\n",
    "        h = (b-a)\n",
    "        m1 = a + h/4.\n",
    "        m2 = b - h/4.\n",
    "        fm1 = f(m1)\n",
    "        fm2 = f(m2)\n",
    "    \n",
    "        # II e III (II = Iprev)\n",
    "        Ileft  = h*(fa + 4*fm1 + fm)/12\n",
    "        Iright = h*(fm + 4*fm2 + fb)/12\n",
    "        Inext = Ileft + Iright\n",
    "    \n",
    "        # IV\n",
    "        if abs(Icur - Inext) < tol: return Inext\n",
    "        else:\n",
    "            esquerda = loop(a,m,m1,fa,fm,fm1, Ileft, tol/2)\n",
    "            direita  = loop(m,b,m2,fm,fb,fm2, Iright, tol/2)\n",
    "            return esquerda+direita\n",
    "    \n",
    "    m = (a+b)/2.\n",
    "    h = (b-a)\n",
    "    fa = f(a)\n",
    "    fb = f(b)\n",
    "    fm = f(m)\n",
    "    I0 = h*(fa + 4*fm + fb)/6\n",
    "    I = loop(a,b,m,fa,fb,fm, I0,tol)\n",
    "    \n",
    "    return I"
   ]
  },
  {
   "cell_type": "code",
   "execution_count": 7,
   "metadata": {},
   "outputs": [
    {
     "data": {
      "text/plain": [
       "0.45969773311904588"
      ]
     },
     "execution_count": 7,
     "metadata": {},
     "output_type": "execute_result"
    }
   ],
   "source": [
    "simpson_adaptativo(sin,0,1)"
   ]
  },
  {
   "cell_type": "code",
   "execution_count": 15,
   "metadata": {},
   "outputs": [
    {
     "data": {
      "text/plain": [
       "0.45969769413186023"
      ]
     },
     "execution_count": 15,
     "metadata": {},
     "output_type": "execute_result"
    }
   ],
   "source": [
    "1 - cos(1)"
   ]
  },
  {
   "cell_type": "code",
   "execution_count": null,
   "metadata": {},
   "outputs": [],
   "source": []
  }
 ],
 "metadata": {
  "kernelspec": {
   "display_name": "Python 3",
   "language": "python",
   "name": "python3"
  },
  "language_info": {
   "codemirror_mode": {
    "name": "ipython",
    "version": 3
   },
   "file_extension": ".py",
   "mimetype": "text/x-python",
   "name": "python",
   "nbconvert_exporter": "python",
   "pygments_lexer": "ipython3",
   "version": "3.7.5"
  }
 },
 "nbformat": 4,
 "nbformat_minor": 1
}
