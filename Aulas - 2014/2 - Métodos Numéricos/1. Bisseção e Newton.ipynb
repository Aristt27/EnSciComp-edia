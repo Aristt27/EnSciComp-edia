{
 "cells": [
  {
   "cell_type": "markdown",
   "metadata": {},
   "source": [
    "Plano de hoje\n",
    "-------------\n",
    "\n",
    "1. Ambiente de programação\n",
    "2. Usando o computador para calcular    \n",
    "    1. **Indução e algoritmos recursivos: fatoriais, binomiais, Fibonacci, Hanói**\n",
    "    1. **Aproximações sucessivas: bisseção, Newton**"
   ]
  },
  {
   "cell_type": "markdown",
   "metadata": {},
   "source": [
    "# Funções recursivas\n",
    "\n",
    "Já vimos a idéia que funções podem chamar outras funções em uma \"torre\".\n",
    "Uma das possibilidades que isto nos dá é que funções chamem a si mesmas, sendo _recursivas_.\n",
    "Isso é muito importante porque vários problemas possuem uma solução naturalmente recursiva.\n",
    "Em geral, isto se deve a uma dentre as seguintes razões:\n",
    "\n",
    "- A definição do problema é recursiva (fatorial, Fibonacci)\n",
    "- Os dados manipulados pela função são recursivos (listas, árvores, números inteiros).\n",
    "- O problema pode ser separado em subproblemas similares (Hanói)\n",
    "- O problema pode ser formulado em uma _seqüência de aproximações_ da solução real.\n",
    "\n",
    "Este último é especialmente interessante para nós.\n",
    "Vejamos como ele se comporta no caso da aula passada do _próximo número real_:"
   ]
  },
  {
   "cell_type": "code",
   "execution_count": 2,
   "metadata": {},
   "outputs": [],
   "source": [
    "def prox_real(x):\n",
    "    assert (x > 0)\n",
    "    def dividir(x,y):\n",
    "        z = (x+y)/2\n",
    "        if (z == x) or (z == y):\n",
    "            return y\n",
    "        else:\n",
    "            return dividir(x,z)\n",
    "    return dividir(x, 2*x)"
   ]
  },
  {
   "cell_type": "markdown",
   "metadata": {},
   "source": [
    "Vejamos agora um outro exemplo, clássico: os fatoriais.\n",
    "Lembramos que o fatorial de um número inteiro $n$ é dado por:\n",
    "$$ n! = \\cases {1 & se $n = 0$\\\\ n \\cdot (n-1)! & se $n > 0$} $$\n",
    "\n",
    "**Exercício**: implemente a função fatorial usando um algoritmo recursivo.\n",
    "A função `isinstance` diz se um argumento pertence a uma certa classe."
   ]
  },
  {
   "cell_type": "code",
   "execution_count": null,
   "metadata": {},
   "outputs": [],
   "source": []
  },
  {
   "cell_type": "markdown",
   "metadata": {},
   "source": [
    "Funções com mais de um argumento também podem ser usadas em recorrências,\n",
    "mas estabelecer qual será esta recorrência pode ser mais difícil.\n",
    "\n",
    "**Exercício**: implemente uma função que calcule números binomiais usando recorrência (e não os fatoriais)."
   ]
  },
  {
   "cell_type": "code",
   "execution_count": null,
   "metadata": {},
   "outputs": [],
   "source": []
  },
  {
   "cell_type": "markdown",
   "metadata": {},
   "source": [
    "## O método da bisseção\n",
    "\n",
    "O método da bisseção (bi = dois, seção = cortar) consiste em cortar um intervalo em dois a cada passo do programa.\n",
    "Já encontramos esta idéia no caso do \"próximo número real\",\n",
    "mas ela é realmente útil para calcular zeros de funções.\n",
    "Se $f$ é uma _função contínua_ de $R$ em $R$, e que muda de sinal entre os pontos $a$ e $b$,\n",
    "então (pelo **Teorema do valor intermediário**) existe uma raiz de $f$ entre $a$ e $b$."
   ]
  },
  {
   "cell_type": "code",
   "execution_count": 3,
   "metadata": {},
   "outputs": [],
   "source": [
    "def bissecao(f, a, b):\n",
    "    assert(f(a) * f(b) <= 0)\n",
    "    \n",
    "    def dividir(x,y):\n",
    "        z = (x+y)/2\n",
    "        if (z == x) or (z == y):\n",
    "            fx = f(x)\n",
    "            fy = f(y)\n",
    "            if (abs(fx) <= abs(fy)):\n",
    "                return x\n",
    "            else:\n",
    "                return y\n",
    "\n",
    "        if (f(x)*f(z) <= 0):\n",
    "            return dividir(x,z)\n",
    "        else:\n",
    "            return dividir(z,y)\n",
    "\n",
    "    return dividir(a,b)"
   ]
  },
  {
   "cell_type": "markdown",
   "metadata": {},
   "source": [
    "Esta função vai até o mais preciso possível que o seu computador consegue para a função.\n",
    "Isto pode parecer bom, mas nem sempre é a melhor solução possível.\n",
    "\n",
    "**Exercício**: adicione um argumento extra, `tol` (tolerância) para achar uma solução a menos de `tol` do valor real."
   ]
  },
  {
   "cell_type": "code",
   "execution_count": 4,
   "metadata": {},
   "outputs": [],
   "source": [
    "def bissecao(f, a, b, tol):\n",
    "    pass"
   ]
  },
  {
   "cell_type": "markdown",
   "metadata": {},
   "source": [
    "Poderíamos ter definido esta funçao como `bissecao(f, a, b, tol=1e-6)`.\n",
    "Isso cria `tol` como um _argumento opcional_ com um _valor padrão_ de `1e-6`.\n",
    "Assim, ao chamar a função simplesmente como `bissecao(f, -2., 3.)`,\n",
    "o Python entende que o argumento `tol` será usado com o seu valor padrão.\n",
    "Esta técnica é muito útil para apresentar uma interface\n",
    "\n",
    "- \"simples\", onde o usuário usa apenas os argumentos obrigatórios,\n",
    "\n",
    "e uma interface\n",
    "\n",
    "- \"expert\", através da qual o usuário pode ter um melhor controle do programa, quando este for necessário"
   ]
  },
  {
   "cell_type": "markdown",
   "metadata": {},
   "source": [
    "## Fibonacci e performance\n",
    "\n",
    "Os números de Fibonacci são definidos por uma recorrência:\n",
    "\\begin{align} & F_0 = F_1 = 1 \\\\ & F_{n+2} = F_{n+1} + F_n \\end{align}\n",
    "\n",
    "**Exercício**: Implemente uma função recursiva que calcule números de Fibonacci."
   ]
  },
  {
   "cell_type": "code",
   "execution_count": null,
   "metadata": {},
   "outputs": [],
   "source": []
  },
  {
   "cell_type": "markdown",
   "metadata": {},
   "source": [
    "Esta função pode ficar muito lenta já para argumentos relativamente pequenos (n = 100).\n",
    "O problema é que esta função calculará $F_{100}$ ao somar tantos `1`s quanto necessário.\n",
    "Como $F_{100}$ já é bastante grande, isso implica em muitos `1`s, e logo muitas contas.\n",
    "Isso ocorre porque, ao expandir a recorrência, calculamos várias vezes o mesmo $F_k$.\n",
    "\n",
    "Uma solução para isto é calcular os números de Fibonacci **ao contrário**,\n",
    "_subindo_ a recorrência em vez de descer.\n",
    "\n",
    "**Exercício**: implemente uma função (não necessariamente recursiva) que calcule os $F_k$ apenas uma vez."
   ]
  },
  {
   "cell_type": "code",
   "execution_count": null,
   "metadata": {},
   "outputs": [],
   "source": []
  },
  {
   "cell_type": "markdown",
   "metadata": {},
   "source": [
    "Existem outras formas de calcular os números de Fibonacci, de acordo com o objetivo (leia-se, _precisão_),\n",
    "que são mais eficientes tanto em memória quanto em tempo de processamento.\n",
    "Mas não vamos falar mais disso."
   ]
  },
  {
   "cell_type": "markdown",
   "metadata": {},
   "source": [
    "## O método de Newton para calcular raízes\n",
    "\n",
    "O método da bisseção é bastante geral (funciona para qualquer função contínua!),\n",
    "e converge \"geométricamente rápido\": o erro na etapa $n+1$ será, aproximadamente,\n",
    "a metade do erro da etapa anterior.\n",
    "\n",
    "Para funções cuja derivada é conhecida, entretanto,\n",
    "o _método de Newton_ é uma alternativa muito poderosa,\n",
    "pois converge com maior velocidade.\n",
    "Além disso, ele dispensa conhecer dois pontos onde o sinal da função seja diferente.\n",
    "Vejamos como ele funciona."
   ]
  },
  {
   "cell_type": "markdown",
   "metadata": {},
   "source": [
    "### Idéia geométrica\n",
    "\n",
    "Dado um ponto $(x,f(x))$ no gráfico de $f$, se traçarmos a tangente,\n",
    "esta será uma boa aproximação da função \"perto\" de $x$.\n",
    "Assim, seguimos esta reta tangente até que ela encontre o eixo-$x$ no ponto $(z,0)$,\n",
    "esperando que esta interseção esteja próxima da verdadeira raiz,\n",
    "que é a interseção da _curva_ descrita por $f$ e o eixo-$x$.\n",
    "\n",
    "Em fórmulas, temos:\n",
    "$$ (z,0) \\in T = \\big\\{ (x, f(x)) + t (1, f'(x)) \\mid t \\in R \\big\\} $$\n",
    "para o ponto $(z,0)$ que está na reta tangente $T$ e também no eixo-$x$\n",
    "(pois sua coordenada $y = 0$).\n",
    "Resolvendo o sistema, encontramos\n",
    "$$ z = x - \\frac{f(x)}{f'(x)}. $$"
   ]
  },
  {
   "cell_type": "markdown",
   "metadata": {},
   "source": [
    "A presença de $f'(x)$ no denominador mostra que este método funciona **mal**\n",
    "quando está próximo de uma raiz de $f'$.\n",
    "Além disso, o método de Newton não fornece um \"intervalo de confiança\" como no caso da bisseção.\n",
    "\n",
    "Assim, é muito importante ter aqui um critério de convergência para poder parar as iterações.\n",
    "Em geral, este pode ser dado por três diferentes parâmetros:\n",
    "\n",
    "- O número de iterações feitas: se estamos calculando \"há muito tempo\", talvez o método esteja \"perdido\"\n",
    "- A distância de $f(x)$ para zero: talvez já tenhamos calculado algo suficientemente próximo de uma raiz,\n",
    "    se $\\lvert f(x)\\rvert << 1$\n",
    "- A distância de $x$ para um zero: se a diferença entre dois pontos sucessivos ($x$ e $z$ no nosso exemplo)\n",
    "    for pequena, então é _provável_ que estejamos perto de uma raiz."
   ]
  },
  {
   "cell_type": "code",
   "execution_count": null,
   "metadata": {},
   "outputs": [],
   "source": []
  }
 ],
 "metadata": {
  "kernelspec": {
   "display_name": "Python 3",
   "language": "python",
   "name": "python3"
  },
  "language_info": {
   "codemirror_mode": {
    "name": "ipython",
    "version": 3
   },
   "file_extension": ".py",
   "mimetype": "text/x-python",
   "name": "python",
   "nbconvert_exporter": "python",
   "pygments_lexer": "ipython3",
   "version": "3.7.5"
  }
 },
 "nbformat": 4,
 "nbformat_minor": 1
}
