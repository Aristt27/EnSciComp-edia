{
 "cells": [
  {
   "cell_type": "markdown",
   "metadata": {},
   "source": [
    "Plano de hoje\n",
    "-------------\n",
    "\n",
    "1. Ambiente de programação\n",
    "2. Usando o computador para calcular    \n",
    "    1. Indução e algoritmos recursivos\n",
    "    1. Aproximações sucessivas: bisseção, Newton\n",
    "    1. **Extra:**\n",
    "        1. **Critérios de parada**\n",
    "        1. **Newton-Horner (deflação de polinômios)**\n",
    "        1. **Schleicher et al.: todas as raízes de uma vez só**\n"
   ]
  },
  {
   "cell_type": "markdown",
   "metadata": {},
   "source": [
    "# Implementando o método de Newton\n",
    "\n",
    "Vamos escrever uma implementação do método de Newton com diversos critérios de parada:\n",
    "\n",
    "1. Distância entre as estimativas sucessivas\n",
    "1. Valor da função\n",
    "1. Número máximo de iterações\n",
    "\n",
    "Vamos aproveitar para introduzir argumentos opcionais em Python."
   ]
  },
  {
   "cell_type": "code",
   "execution_count": 1,
   "metadata": {},
   "outputs": [
    {
     "name": "stdout",
     "output_type": "stream",
     "text": [
      "Populating the interactive namespace from numpy and matplotlib\n"
     ]
    }
   ],
   "source": [
    "%pylab inline"
   ]
  },
  {
   "cell_type": "code",
   "execution_count": 2,
   "metadata": {},
   "outputs": [],
   "source": [
    "def newton(f, df, x0, tolx=1e-10, toly=0, maxiter=100):\n",
    "    x = x0\n",
    "    niter = 0\n",
    "    while True:\n",
    "        xnew = x - f(x)/df(x)\n",
    "        niter += 1\n",
    "        if abs(xnew - x) < tolx: break\n",
    "        if abs(f(xnew)) < toly: break\n",
    "        if niter > maxiter: return None\n",
    "        x = xnew\n",
    "    \n",
    "    return xnew, niter"
   ]
  },
  {
   "cell_type": "code",
   "execution_count": 3,
   "metadata": {},
   "outputs": [
    {
     "data": {
      "text/plain": [
       "(3.1415926535897931, 6)"
      ]
     },
     "execution_count": 3,
     "metadata": {},
     "output_type": "execute_result"
    }
   ],
   "source": [
    "newton(sin, cos, 2.)"
   ]
  },
  {
   "cell_type": "markdown",
   "metadata": {},
   "source": [
    "## Observações\n",
    "\n",
    "Existem algumas considerações a serem feitas sobre os critérios de parada.\n",
    "Seja $z$ a raiz para a qual converge o método, quando feitas infinitas iterações.\n",
    "\n",
    "1. Se $\\lvert f'(z)\\rvert << 1$, a parada em `toly` pode ocorrer muito longe da verdadeira raiz.\n",
    "1. Se, ao contrário, $\\lvert f'(z)\\rvert >> 1$, a parada em `toly` só ocorrerá muito perto da raiz. (Obs Quarteroni)\n",
    "1. Como a cada etapa calculamos $f'(x)$, poderíamos usar esta informação para \"corrigir\" o critério.\n",
    "1. Por esta razão, deixamos o valor default de `toly` em zero.\n",
    "1. Enfim, se $z$ é uma raiz múltipla de $f$, o critério em `tolx` é insuficiente,\n",
    "    pois o método converge muito lentamente e pode parar muito longe de $z$."
   ]
  },
  {
   "cell_type": "markdown",
   "metadata": {},
   "source": [
    "## Performance\n",
    "\n",
    "Algumas ineficiências óbvias ocorrem no código acima.\n",
    "A mais importante delas é que calculamos **3** vezes $f(x)$ para cada valor de $x$ testado (Ache!).\n",
    "\n",
    "Uma outra é que, se `toly = 0`, então não deveríamos testar mais nada.\n",
    "Como o custo deste teste é relativamente baixo (se comparado a calcular a função $f$),\n",
    "e a única solução realmente satisfatória seria usar dois algoritmos exatamente iguais,\n",
    "exceto por esta linha, vamos manter tudo junto."
   ]
  },
  {
   "cell_type": "markdown",
   "metadata": {},
   "source": [
    "# Polinômios: Newton-Horner\n",
    "\n",
    "Uma das mais importantes aplicações do método de Newton é para polinômios.\n",
    "Estas são provavelmente as funções mais simples que podem aparecer em problemas,\n",
    "e já o cálculo das suas raízes é bastante complicado.\n",
    "Além disso, quando o grau é pelo menos $5$, não existe fórmula explícita para encontrar a solução."
   ]
  },
  {
   "cell_type": "markdown",
   "metadata": {},
   "source": [
    "## Calculando polinômios\n",
    "\n",
    "Uma das primeiras observações sobre polinômios é que calcular usando a definição não é a melhor saída:\n",
    "a fórmula\n",
    "$$ P(x) = \\sum_k a_k x^k $$\n",
    "contém muitas multiplicações (para calcular os $x^k$ e em seguida o produto com $a_k$) e $d$ somas.\n",
    "Fazendo a conta na ordem crescente dos $k$, temos $2n$ multiplicações se guardarmos o produto $x^k$ para o próximo termo."
   ]
  },
  {
   "cell_type": "code",
   "execution_count": 4,
   "metadata": {},
   "outputs": [],
   "source": [
    "def P(coeff, x):\n",
    "    px = 1\n",
    "    acc = 0\n",
    "    for c in coeff:\n",
    "        acc += c*px\n",
    "        px *= x\n",
    "    return acc"
   ]
  },
  {
   "cell_type": "markdown",
   "metadata": {},
   "source": [
    "Mas podemos calcular **ao contrário**.\n",
    "Veja que\n",
    "$$ P(x) = a_0 + x(a_1 + x(a_2 + \\ldots + x (a_n) \\ldots )) $$\n",
    "o que dá a seguinte fórmula, indo de dentro para fora dos parêntesis:\n",
    "$$ \\begin{align*} b_n(x) & = a_n \\\\ b_k(x) & = a_k + x \\cdot b_{k+1}(x) \\end{align*} $$\n",
    "Note que $P(x) = b_0(x)$."
   ]
  },
  {
   "cell_type": "code",
   "execution_count": 5,
   "metadata": {},
   "outputs": [],
   "source": [
    "def Horner(rcoeff, x):\n",
    "    # Inicialização\n",
    "    acc = rcoeff[0]\n",
    "    for c in rcoeff[1:]:\n",
    "        acc *= x\n",
    "        acc += c\n",
    "    return acc"
   ]
  },
  {
   "cell_type": "markdown",
   "metadata": {},
   "source": [
    "Vejamos que o método de Horner nos dá uma igualdade poderosa entre os valores de $P$.\n",
    "\n",
    "Sejam $x$ e $y$ dois números.\n",
    "Vamos calcular $d(x,y) = P(x) - P(y)$ através das recorrências dos $b_k$s.\n",
    "\n",
    "Definimos $$d_k(x,y) = b_k(x) - b_k(y) = x \\cdot b_{k+1}(x) - y \\cdot b_{k+1}(y).$$\n",
    "Note que $d_n(x,y) = 0$ e que $d_0(x,y) = P(x) - P(y)$.\n",
    "\n",
    "Agora, repare que $b_{k+1}(x) = b_{k+1}(y) + d_{k+1}(x,y)$ e substitua:\n",
    "$$d_k(x,y) = x \\cdot \\big(b_{k+1}(y) + d_{k+1}(x,y)\\big) - y \\cdot b_{k+1}(y) = x \\cdot d_{k+1}(x,y) + (x - y)\\cdot b_{k+1}(y).$$\n",
    "\n",
    "Assim, $d_n(x,y)$ é múltiplo de $(x - y)$ (pois é igual a zero!), e a cada etapa somamos um termo também múltiplo de $(x - y)$.\n",
    "Portanto, $d_0(x,y)$ será múltiplo de $(x - y)$."
   ]
  },
  {
   "cell_type": "markdown",
   "metadata": {},
   "source": [
    "Vamos, então, calcular algo com \"menos termos\" para fazer menos contas!\n",
    "Defina $$q_k(x,y) = \\frac{d_k(x,y)}{x - y}$$ e veja que ele satisfaz a recorrência\n",
    "$$ q_k(x,y) = x \\cdot q_{k+1}(x,y) + b_{k+1}(y). $$\n",
    "Rearrumando um pouco, temos:\n",
    "$$ \\begin{align*} q_{n-1}(x,y) & = b_n(y) \\\\ q_k(x,y) & = b_{k+1}(y) + x \\cdot q_{k+1}(x,y) \\end{align*} $$\n",
    "que é exatamente o cálculo do polinômio\n",
    "$$ Q_y(x) = \\sum b_{k+1}(y) \\cdot x^k $$\n",
    "pelo método de Horner!\n",
    "\n",
    "Veja que este polinômio tem grau $n-1$ em $x$, e obtemos uma identidade muito importante:\n",
    "$$ P(x) - P(y) = (x - y)Q_y(x). \\qquad (1) $$"
   ]
  },
  {
   "cell_type": "code",
   "execution_count": 6,
   "metadata": {},
   "outputs": [],
   "source": [
    "# Calcula [P(x)] e [Q(.,x)] dados os coeficientes de P em ordem decrescente [a_n ... a_0] e um ponto [x]\n",
    "# O polinômio [Q(.,x)] é dado por seus coeficientes em ordem decrescente [b_n(x) ... b_1(x)]\n",
    "def HornerQ(rcoeff, x):\n",
    "    # Inicialização\n",
    "    acc = rcoeff[0]\n",
    "    b = [acc]\n",
    "    for c in rcoeff[1:]:\n",
    "        acc *= x\n",
    "        acc += c\n",
    "        b.append(acc)\n",
    "    return acc, b[:-1]"
   ]
  },
  {
   "cell_type": "code",
   "execution_count": 7,
   "metadata": {},
   "outputs": [
    {
     "data": {
      "text/plain": [
       "(0, [1, -1, 1, -1, 1, -1, 1, -1, 1, -1])"
      ]
     },
     "execution_count": 7,
     "metadata": {},
     "output_type": "execute_result"
    }
   ],
   "source": [
    "HornerQ([1,0,0,0,0,0,0,0,0,0,-1], -1)"
   ]
  },
  {
   "cell_type": "markdown",
   "metadata": {},
   "source": [
    "## Fatorando polinômios\n",
    "\n",
    "Ao realizar a divisão euclidiana de $P(x)$ por $(x - Z)$,\n",
    "devemos obter algo como\n",
    "$$ P(x) = (x - Z)Q(x) + R(x) $$\n",
    "onde $Q$ é o quociente e $R$ é o resto, de grau menor do que $1$.\n",
    "Logo $R(x)$ é uma constante $R$, e vemos, ao substituir $x = Z$,\n",
    "que $R = P(Z)$.\n",
    "\n",
    "A identidade acima sobre $Q_y$ dá outra demonstração disso: basta escrever\n",
    "$$ P(x) = (x - Z)Q_Z(x) + P(Z). $$\n",
    "Assim, a identidade $(1)$ permite calcular o quociente da divisão de um polinômio por um fator simples!"
   ]
  },
  {
   "cell_type": "markdown",
   "metadata": {},
   "source": [
    "No caso particular em que $Z$ é uma raiz de $P$, temos $P(Z) = 0$\n",
    "e com isso obtivemos uma fatoração de $P$.\n",
    "Para achar as outras raízes de $P$, basta achar as raízes de $Q_Z$."
   ]
  },
  {
   "cell_type": "markdown",
   "metadata": {},
   "source": [
    "### Cálculo da derivada\n",
    "Seja, novamente, $y$ um número qualquer (não precisa ser uma raiz).\n",
    "Derivando a identidade $(1)$ com relação a $x$, obtemos:\n",
    "$$P'(x) = Q_y(x) + (x - y)Q_y'(x).$$\n",
    "\n",
    "Em particular, para $x = y$, temos\n",
    "$$P'(y) = Q_y(y)$$\n",
    "que nos dá uma forma de calcular a derivada de $P$."
   ]
  },
  {
   "cell_type": "markdown",
   "metadata": {},
   "source": [
    "Esta fórmula é bastante útil para o método de Newton:\n",
    "ao calcularmos $P(x_i)$, temos os coeficientes para calcular $P'(x_i)$."
   ]
  },
  {
   "cell_type": "code",
   "execution_count": 8,
   "metadata": {},
   "outputs": [],
   "source": [
    "def newtonP(rcoeff, x, tol=1e-10, maxiter=100):\n",
    "    for i in range(maxiter):\n",
    "        fx, bx = HornerQ(rcoeff, x)\n",
    "        dfx, _ = HornerQ(bx, x)\n",
    "        \n",
    "        step = fx/dfx\n",
    "        x = x - step\n",
    "        if abs(step) < tol: break\n",
    "\n",
    "    return x, bx, i"
   ]
  },
  {
   "cell_type": "markdown",
   "metadata": {},
   "source": [
    "## Todas as raízes\n",
    "\n",
    "Ao calcular uma raiz de $P$, temos já em mãos os coeficientes do fator restante em $Q_Z$.\n",
    "Assim, podemos achar, iterativamente, todas as raízes de $P$!"
   ]
  },
  {
   "cell_type": "code",
   "execution_count": 9,
   "metadata": {},
   "outputs": [],
   "source": [
    "def newton_all(rcoeff, x, tol=1e-10, maxiter=100):\n",
    "    roots = []\n",
    "    steps = []\n",
    "    while len(rcoeff) > 1:\n",
    "        x, rcoeff, ni = newtonP(rcoeff, x, tol, maxiter)\n",
    "        roots.append(x)\n",
    "        steps.append(ni)\n",
    "        \n",
    "    return roots, steps, rcoeff"
   ]
  },
  {
   "cell_type": "markdown",
   "metadata": {},
   "source": [
    "Vejamos os resultados deste método:"
   ]
  },
  {
   "cell_type": "code",
   "execution_count": 10,
   "metadata": {},
   "outputs": [
    {
     "data": {
      "text/plain": [
       "([-0.14825455686421538,\n",
       "  -1.158872830190785,\n",
       "  13.595450357968447,\n",
       "  1.2202150607204185,\n",
       "  -3.508538031633867],\n",
       " [5, 99, 99, 7, 1],\n",
       " [1])"
      ]
     },
     "execution_count": 10,
     "metadata": {},
     "output_type": "execute_result"
    }
   ],
   "source": [
    "newton_all([1, -10, -50, 10, 70, 10], 0.1, tol=1e-17)"
   ]
  },
  {
   "cell_type": "markdown",
   "metadata": {},
   "source": [
    "Mas nem sempre dá tudo certo... vejamos este polinômio agora:"
   ]
  },
  {
   "cell_type": "code",
   "execution_count": 24,
   "metadata": {},
   "outputs": [
    {
     "name": "stdout",
     "output_type": "stream",
     "text": [
      "Candidate root: -1.55247, value =     0.000000 (31 steps)\n",
      "Candidate root:  5.38583, value =  5079.623112 (99 steps)\n",
      "Candidate root:  1.82548, value =     1.700718 ( 7 steps)\n",
      "Candidate root: -1.64636, value =   -12.142178 (99 steps)\n",
      "Candidate root: -0.25342, value =    24.512298 ( 1 steps)\n"
     ]
    }
   ],
   "source": [
    "coeffs = [2,-5,1,4,-13,21]\n",
    "rs, sts, _ = newton_all(coeffs, 2.)\n",
    "for r,s in zip(rs,sts):\n",
    "    print(\"Candidate root: {: .5f}, value = {: 12f} ({:2} steps)\".format(r, Horner(coeffs, r), s))"
   ]
  },
  {
   "cell_type": "markdown",
   "metadata": {},
   "source": [
    "Este caso não funciona porque a função não 5 raízes reais, mas apenas 1.\n",
    "Assim, será impossível achar 5 raízes!\n",
    "\n",
    "Mas se usarmos números complexos, ou seja, se começarmos buscando a partir de números complexos,\n",
    "o método acha tudo:"
   ]
  },
  {
   "cell_type": "code",
   "execution_count": 23,
   "metadata": {},
   "outputs": [
    {
     "name": "stdout",
     "output_type": "stream",
     "text": [
      "Candidate root:  1.83711-0.23329j, value =   0.00e+00+2.54e-15j (20 steps)\n",
      "Candidate root:  1.83711+0.23329j, value =   4.97e-14-5.73e-14j ( 5 steps)\n",
      "Candidate root: -1.55247-0.00000j, value =   2.81e-10-2.85e-09j (10 steps)\n",
      "Candidate root:  0.18912+1.39155j, value =  -1.12e-09-1.60e-09j (42 steps)\n",
      "Candidate root:  0.18912-1.39155j, value =   1.19e-09-1.21e-09j ( 1 steps)\n"
     ]
    }
   ],
   "source": [
    "rs, sts, _ = newton_all(coeffs, 2. + 5j)\n",
    "for r,s in zip(rs,sts):\n",
    "    print(\"Candidate root: {: .5f}, value = {: 20.2e} ({:2} steps)\".format(r, Horner(coeffs, r), s))"
   ]
  },
  {
   "cell_type": "code",
   "execution_count": 13,
   "metadata": {},
   "outputs": [
    {
     "data": {
      "text/plain": [
       "([0.9999968303968879,\n",
       "  0.9999991816564067,\n",
       "  1.0000003396399397,\n",
       "  3.99999999999742],\n",
       " [51, 99, 1, 1],\n",
       " [1])"
      ]
     },
     "execution_count": 13,
     "metadata": {},
     "output_type": "execute_result"
    }
   ],
   "source": [
    "newton_all([1, -7, 15, -13, 4], 0.1)"
   ]
  },
  {
   "cell_type": "markdown",
   "metadata": {},
   "source": [
    "# Achando todos os zeros de uma só vez\n",
    "\n",
    "Pode parecer muito ambicioso, mas a verdade é que algoritmos de \"deflação\"\n",
    "(como são conhecidos os métodos que calculam as raízes uma a uma, e dividem o polinômio a cada iteração)\n",
    "podem ser muito lentos e, além disso, acumular muito erro pelas \"divisões\".\n",
    "Assim, é razoável buscar métodos que encontrem todas as raízes de um polinômio _diretamente_.\n",
    "\n",
    "Uma das abordagens (devida a Schleicher et al.) é determinar um conjunto suficientemente grande de pontos iniciais\n",
    "tais que o método de Newton, aplicado a este conjunto, atinja pelo menos uma vez **cada** raíz de $P$.\n",
    "Sua idéia, mais ambiciosa ainda, requer que o conjunto seja relativamente _independente_ do polinômio considerado.\n",
    "Assim, escolhem-se pontos (complexos) num anel (ou seja, entre dois círculos)\n",
    "cuja única dependência no polinômio é que seu interior contenha todos os zeros,\n",
    "para o que basta uma homotetia (de cálculo bastante simples!)."
   ]
  }
 ],
 "metadata": {
  "kernelspec": {
   "display_name": "Python 3",
   "language": "python",
   "name": "python3"
  },
  "language_info": {
   "codemirror_mode": {
    "name": "ipython",
    "version": 3
   },
   "file_extension": ".py",
   "mimetype": "text/x-python",
   "name": "python",
   "nbconvert_exporter": "python",
   "pygments_lexer": "ipython3",
   "version": "3.7.5"
  }
 },
 "nbformat": 4,
 "nbformat_minor": 1
}
